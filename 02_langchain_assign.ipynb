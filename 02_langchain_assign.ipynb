{
 "cells": [
  {
   "cell_type": "code",
   "execution_count": 12,
   "id": "b6d62a40",
   "metadata": {},
   "outputs": [],
   "source": [
    "from dotenv import load_dotenv\n",
    "from glob import glob\n",
    "from pprint import pprint\n",
    "import os"
   ]
  },
  {
   "cell_type": "code",
   "execution_count": 13,
   "id": "996c5db4",
   "metadata": {},
   "outputs": [
    {
     "data": {
      "text/plain": [
       "True"
      ]
     },
     "execution_count": 13,
     "metadata": {},
     "output_type": "execute_result"
    }
   ],
   "source": [
    "load_dotenv()"
   ]
  },
  {
   "cell_type": "code",
   "execution_count": 14,
   "id": "4d340a16",
   "metadata": {},
   "outputs": [
    {
     "name": "stdout",
     "output_type": "stream",
     "text": [
      "['data\\\\samsung_KR.txt', 'data\\\\skHynix_KR.txt', 'data\\\\리비안_KR.txt', 'data\\\\테슬라_KR.txt']\n"
     ]
    }
   ],
   "source": [
    "# 문서 로딩\n",
    "text_files = glob(os.path.join('data', '*_KR.txt'))\n",
    "print(text_files)"
   ]
  },
  {
   "cell_type": "code",
   "execution_count": 15,
   "id": "6eb4d7f7",
   "metadata": {},
   "outputs": [
    {
     "data": {
      "text/plain": [
       "1"
      ]
     },
     "execution_count": 15,
     "metadata": {},
     "output_type": "execute_result"
    }
   ],
   "source": [
    "# 문서 로더\n",
    "from langchain_community.document_loaders import TextLoader\n",
    "\n",
    "loader = TextLoader(text_files[0], encoding='utf-8')\n",
    "data = loader.load()\n",
    "len(data)"
   ]
  },
  {
   "cell_type": "code",
   "execution_count": 16,
   "id": "2d3f07c9",
   "metadata": {},
   "outputs": [
    {
     "name": "stderr",
     "output_type": "stream",
     "text": [
      "100%|██████████| 4/4 [00:00<00:00, 2005.40it/s]\n"
     ]
    },
    {
     "data": {
      "text/plain": [
       "4"
      ]
     },
     "execution_count": 16,
     "metadata": {},
     "output_type": "execute_result"
    }
   ],
   "source": [
    "from tqdm import tqdm\n",
    "\n",
    "data  = []\n",
    "\n",
    "for text_file in tqdm(text_files):\n",
    "    loader = TextLoader(text_file, encoding='utf-8')\n",
    "    data += loader.load()\n",
    "    # data.append(loader.load())\n",
    "\n",
    "len(data)\n"
   ]
  },
  {
   "cell_type": "code",
   "execution_count": 17,
   "id": "90e823e9",
   "metadata": {},
   "outputs": [
    {
     "name": "stdout",
     "output_type": "stream",
     "text": [
      "[743, 674, 514, 451]\n"
     ]
    }
   ],
   "source": [
    "# 텍스트 분할기(Text Splitters)\n",
    "char_count = [len(doc.page_content) for doc in data]\n",
    "print(char_count)"
   ]
  },
  {
   "cell_type": "code",
   "execution_count": 18,
   "id": "69213129",
   "metadata": {},
   "outputs": [
    {
     "name": "stderr",
     "output_type": "stream",
     "text": [
      "Created a chunk of size 282, which is longer than the specified 250\n",
      "Created a chunk of size 268, which is longer than the specified 250\n"
     ]
    },
    {
     "name": "stdout",
     "output_type": "stream",
     "text": [
      "생성된 텍스크 청크 수: 13\n",
      "각 청크의 길이: [164, 203, 217, 152, 149, 226, 123, 170, 175, 282, 52, 268, 180]\n"
     ]
    }
   ],
   "source": [
    "from langchain_text_splitters import CharacterTextSplitter\n",
    "\n",
    "text_splitter = CharacterTextSplitter(\n",
    "    chunk_size=250, # 청크의 크기\n",
    "    chunk_overlap=50, # 청크 중 중복되는 크기\n",
    "    separator='\\n\\n'\n",
    ")\n",
    "\n",
    "texts = text_splitter.split_documents(data)\n",
    "print(f\"생성된 텍스크 청크 수: {len(texts)}\")\n",
    "print(f\"각 청크의 길이: {list(len(text.page_content) for text in texts)}\")"
   ]
  },
  {
   "cell_type": "code",
   "execution_count": 19,
   "id": "21c087f6",
   "metadata": {},
   "outputs": [],
   "source": [
    "# 임베딩 모델(Embeddings)\n",
    "from langchain_openai import OpenAIEmbeddings\n",
    "\n",
    "embeddings = OpenAIEmbeddings(\n",
    "    model='text-embedding-3-small',\n",
    ")"
   ]
  },
  {
   "cell_type": "code",
   "execution_count": 20,
   "id": "68632263",
   "metadata": {},
   "outputs": [
    {
     "name": "stderr",
     "output_type": "stream",
     "text": [
      "Failed to send telemetry event ClientStartEvent: capture() takes 1 positional argument but 3 were given\n",
      "Failed to send telemetry event ClientCreateCollectionEvent: capture() takes 1 positional argument but 3 were given\n"
     ]
    },
    {
     "name": "stdout",
     "output_type": "stream",
     "text": [
      "벡터 저장소에 저장된 문서: 26\n"
     ]
    }
   ],
   "source": [
    "# 벡터 저장소(Vector Stores)\n",
    "from langchain_chroma import Chroma\n",
    "\n",
    "vectorstore = Chroma.from_documents(\n",
    "    documents=texts,\n",
    "    embedding=embeddings,\n",
    "    collection_name='chroma_test',\n",
    "    persist_directory='./chroma_db'\n",
    ")\n",
    "\n",
    "print(f'벡터 저장소에 저장된 문서: {vectorstore._collection.count()}')"
   ]
  },
  {
   "cell_type": "code",
   "execution_count": 21,
   "id": "40ed18b6",
   "metadata": {},
   "outputs": [
    {
     "name": "stdout",
     "output_type": "stream",
     "text": [
      "================================\u001b[1m Human Message \u001b[0m=================================\n",
      "\n",
      "다음 맥락만을 바탕으로 질문에 답하세요.\n",
      "외부 정보나 지식을 사용하지 마세요.\n",
      "답변이 문맥에 맞지 않는 경우 답변 '잘 모르겠습니다.'\n",
      "\n",
      "[Context]\n",
      "\u001b[33;1m\u001b[1;3m{context}\u001b[0m\n",
      "\n",
      "[Question]\n",
      "\u001b[33;1m\u001b[1;3m{question}\u001b[0m\n",
      "\n",
      "[Answer]\n",
      "\n"
     ]
    }
   ],
   "source": [
    "# RAG 프롬프트 템플릿 파이프라인 구성\n",
    "from langchain.prompts import ChatPromptTemplate\n",
    "\n",
    "template = '''다음 맥락만을 바탕으로 질문에 답하세요.\n",
    "외부 정보나 지식을 사용하지 마세요.\n",
    "답변이 문맥에 맞지 않는 경우 답변 '잘 모르겠습니다.'\n",
    "\n",
    "[Context]\n",
    "{context}\n",
    "\n",
    "[Question]\n",
    "{question}\n",
    "\n",
    "[Answer]\n",
    "'''\n",
    "\n",
    "prompt = ChatPromptTemplate.from_template(template)\n",
    "\n",
    "prompt.pretty_print()"
   ]
  },
  {
   "cell_type": "code",
   "execution_count": 22,
   "id": "380cf585",
   "metadata": {},
   "outputs": [],
   "source": [
    "from langchain_openai import ChatOpenAI\n",
    "llm = ChatOpenAI(model='gpt-4o-mini', temperature=0, max_tokens=100)"
   ]
  },
  {
   "cell_type": "code",
   "execution_count": 23,
   "id": "ac3a2abe",
   "metadata": {},
   "outputs": [],
   "source": [
    "# 문서 검색기 (retriever)\n",
    "retriever = vectorstore.as_retriever(\n",
    "    search_kwargs={'k':2}\n",
    ")"
   ]
  },
  {
   "cell_type": "code",
   "execution_count": null,
   "id": "0b1fd479",
   "metadata": {},
   "outputs": [
    {
     "name": "stderr",
     "output_type": "stream",
     "text": [
      "Failed to send telemetry event CollectionQueryEvent: capture() takes 1 positional argument but 3 were given\n"
     ]
    },
    {
     "name": "stdout",
     "output_type": "stream",
     "text": [
      "('삼성전자 파운드리 사업의 시장 점유율이 지속적으로 하락하고 있습니다. 2025년 1분기 기준, 삼성전자의 파운드리 시장 점유율은 '\n",
      " '17.7%로, 전년 동기 대비 감소했습니다. 반면, TSMC는 시장 점유율을 확대하며 67.6%를 기록하여 격차가 더욱 커지고 있는 '\n",
      " '상황입니다.\\n'\n",
      " '\\n'\n",
      " '삼성전자 파운드리 사업의 시장 점유율이 지속적으로 하락하고 있습니다. 2025년 1분기 기준, 삼성전자의 파운드리 시장 점유율은 '\n",
      " '17.7%로, 전년 동기 대비 감소했습니다. 반면, TSMC는 시장 점유율을 확대하며 67.6%를 기록하여 격차가 더욱 커지고 있는 '\n",
      " '상황입니다.')\n"
     ]
    }
   ],
   "source": [
    "# 문서 포맷터 함수\n",
    "def format_docs(docs):\n",
    "    return '\\n\\n'.join([doc.page_content for doc in docs])\n",
    "\n",
    "retriever_chain = retriever | format_docs\n",
    "\n",
    "response = retriever_chain.invoke('삼성전자 파운드리 사업 시장 점유율은 어떤가요?')\n",
    "\n",
    "pprint(response)"
   ]
  },
  {
   "cell_type": "code",
   "execution_count": 25,
   "id": "158872a6",
   "metadata": {},
   "outputs": [],
   "source": [
    "from langchain_core.runnables import RunnablePassthrough\n",
    "from langchain_core.output_parsers import StrOutputParser\n",
    "\n",
    "rag_chain = (\n",
    "    {'context': retriever_chain, 'question':RunnablePassthrough()}\n",
    "    | prompt\n",
    "    | llm\n",
    "    | StrOutputParser()\n",
    ")\n",
    "\n",
    "query = '삼성전자 파운드리 사업 시장 점유율은 어떤가요?'\n",
    "response = rag_chain.invoke(query)"
   ]
  },
  {
   "cell_type": "code",
   "execution_count": 26,
   "id": "420bfd21",
   "metadata": {},
   "outputs": [
    {
     "data": {
      "text/plain": [
       "'삼성전자 파운드리 사업의 시장 점유율은 2025년 1분기 기준으로 17.7%입니다.'"
      ]
     },
     "execution_count": 26,
     "metadata": {},
     "output_type": "execute_result"
    }
   ],
   "source": [
    "response"
   ]
  },
  {
   "cell_type": "code",
   "execution_count": null,
   "id": "672233d1",
   "metadata": {},
   "outputs": [],
   "source": []
  }
 ],
 "metadata": {
  "kernelspec": {
   "display_name": "langchain-env-t9ymxAh_-py3.11",
   "language": "python",
   "name": "python3"
  },
  "language_info": {
   "codemirror_mode": {
    "name": "ipython",
    "version": 3
   },
   "file_extension": ".py",
   "mimetype": "text/x-python",
   "name": "python",
   "nbconvert_exporter": "python",
   "pygments_lexer": "ipython3",
   "version": "3.11.9"
  }
 },
 "nbformat": 4,
 "nbformat_minor": 5
}
