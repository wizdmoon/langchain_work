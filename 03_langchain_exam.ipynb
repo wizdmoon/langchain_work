{
 "cells": [
  {
   "cell_type": "code",
   "execution_count": 1,
   "id": "eb9ee633",
   "metadata": {},
   "outputs": [],
   "source": [
    "from dotenv import load_dotenv\n",
    "from glob import glob\n",
    "from pprint import pprint\n",
    "import os"
   ]
  },
  {
   "cell_type": "code",
   "execution_count": 2,
   "id": "bbd6b55b",
   "metadata": {},
   "outputs": [
    {
     "data": {
      "text/plain": [
       "True"
      ]
     },
     "execution_count": 2,
     "metadata": {},
     "output_type": "execute_result"
    }
   ],
   "source": [
    "load_dotenv()"
   ]
  },
  {
   "cell_type": "code",
   "execution_count": 3,
   "id": "6f0e5dd6",
   "metadata": {},
   "outputs": [
    {
     "data": {
      "text/plain": [
       "15"
      ]
     },
     "execution_count": 3,
     "metadata": {},
     "output_type": "execute_result"
    }
   ],
   "source": [
    "#pdf 문서\n",
    "from langchain_community.document_loaders import PyPDFLoader\n",
    "\n",
    "pdf_loader = PyPDFLoader('./data/transformer.pdf')\n",
    "pdf_docs = pdf_loader.load()\n",
    "\n",
    "len(pdf_docs)"
   ]
  },
  {
   "cell_type": "code",
   "execution_count": 4,
   "id": "47fefe85",
   "metadata": {},
   "outputs": [
    {
     "data": {
      "text/plain": [
       "list"
      ]
     },
     "execution_count": 4,
     "metadata": {},
     "output_type": "execute_result"
    }
   ],
   "source": [
    "type(pdf_docs)"
   ]
  },
  {
   "cell_type": "code",
   "execution_count": 5,
   "id": "8fda0b46",
   "metadata": {},
   "outputs": [
    {
     "data": {
      "text/plain": [
       "Document(metadata={'source': './data/transformer.pdf', 'page': 0}, page_content='Provided proper attribution is provided, Google hereby grants permission to\\nreproduce the tables and figures in this paper solely for use in journalistic or\\nscholarly works.\\nAttention Is All You Need\\nAshish Vaswani∗\\nGoogle Brain\\navaswani@google.comNoam Shazeer∗\\nGoogle Brain\\nnoam@google.comNiki Parmar∗\\nGoogle Research\\nnikip@google.comJakob Uszkoreit∗\\nGoogle Research\\nusz@google.com\\nLlion Jones∗\\nGoogle Research\\nllion@google.comAidan N. Gomez∗ †\\nUniversity of Toronto\\naidan@cs.toronto.eduŁukasz Kaiser∗\\nGoogle Brain\\nlukaszkaiser@google.com\\nIllia Polosukhin∗ ‡\\nillia.polosukhin@gmail.com\\nAbstract\\nThe dominant sequence transduction models are based on complex recurrent or\\nconvolutional neural networks that include an encoder and a decoder. The best\\nperforming models also connect the encoder and decoder through an attention\\nmechanism. We propose a new simple network architecture, the Transformer,\\nbased solely on attention mechanisms, dispensing with recurrence and convolutions\\nentirely. Experiments on two machine translation tasks show these models to\\nbe superior in quality while being more parallelizable and requiring significantly\\nless time to train. Our model achieves 28.4 BLEU on the WMT 2014 English-\\nto-German translation task, improving over the existing best results, including\\nensembles, by over 2 BLEU. On the WMT 2014 English-to-French translation task,\\nour model establishes a new single-model state-of-the-art BLEU score of 41.8 after\\ntraining for 3.5 days on eight GPUs, a small fraction of the training costs of the\\nbest models from the literature. We show that the Transformer generalizes well to\\nother tasks by applying it successfully to English constituency parsing both with\\nlarge and limited training data.\\n∗Equal contribution. Listing order is random. Jakob proposed replacing RNNs with self-attention and started\\nthe effort to evaluate this idea. Ashish, with Illia, designed and implemented the first Transformer models and\\nhas been crucially involved in every aspect of this work. Noam proposed scaled dot-product attention, multi-head\\nattention and the parameter-free position representation and became the other person involved in nearly every\\ndetail. Niki designed, implemented, tuned and evaluated countless model variants in our original codebase and\\ntensor2tensor. Llion also experimented with novel model variants, was responsible for our initial codebase, and\\nefficient inference and visualizations. Lukasz and Aidan spent countless long days designing various parts of and\\nimplementing tensor2tensor, replacing our earlier codebase, greatly improving results and massively accelerating\\nour research.\\n†Work performed while at Google Brain.\\n‡Work performed while at Google Research.\\n31st Conference on Neural Information Processing Systems (NIPS 2017), Long Beach, CA, USA.arXiv:1706.03762v7  [cs.CL]  2 Aug 2023')"
      ]
     },
     "execution_count": 5,
     "metadata": {},
     "output_type": "execute_result"
    }
   ],
   "source": [
    "pdf_docs[0]"
   ]
  },
  {
   "cell_type": "code",
   "execution_count": 6,
   "id": "917a2034",
   "metadata": {},
   "outputs": [
    {
     "name": "stdout",
     "output_type": "stream",
     "text": [
      "Provided proper attribution is provided, Google hereby grants permission to\n",
      "reproduce the tables and figures in this paper solely for use in journalistic or\n",
      "scholarly works.\n",
      "Attention Is All You Need\n",
      "Ashish Vaswani∗\n",
      "Google Brain\n",
      "avaswani@google.comNoam Shazeer∗\n",
      "Google Brain\n",
      "noam@google.comNiki Parmar∗\n",
      "Google Research\n",
      "nikip@google.comJakob Uszkoreit∗\n",
      "Google Research\n",
      "usz@google.com\n",
      "Llion Jones∗\n",
      "Google Research\n",
      "llion@google.comAidan N. Gomez∗ †\n",
      "University of Toronto\n",
      "aidan@cs.toronto.eduŁukasz Kaiser∗\n",
      "Google Brain\n",
      "lukaszkaiser@google.com\n",
      "Illia Polosukhin∗ ‡\n",
      "illia.polosukhin@gmail.com\n",
      "Abstract\n",
      "The dominant sequence transduction models are based on complex recurrent or\n",
      "convolutional neural networks that include an encoder and a decoder. The best\n",
      "performing models also connect the encoder and decoder through an attention\n",
      "mechanism. We propose a new simple network architecture, the Transformer,\n",
      "based solely on attention mechanisms, dispensing with recurrence and convolutions\n",
      "entirely. Experiments on two machine translation tasks show these models to\n",
      "be superior in quality while being more parallelizable and requiring significantly\n",
      "less time to train. Our model achieves 28.4 BLEU on the WMT 2014 English-\n",
      "to-German translation task, improving over the existing best results, including\n",
      "ensembles, by over 2 BLEU. On the WMT 2014 English-to-French translation task,\n",
      "our model establishes a new single-model state-of-the-art BLEU score of 41.8 after\n",
      "training for 3.5 days on eight GPUs, a small fraction of the training costs of the\n",
      "best models from the literature. We show that the Transformer generalizes well to\n",
      "other tasks by applying it successfully to English constituency parsing both with\n",
      "large and limited training data.\n",
      "∗Equal contribution. Listing order is random. Jakob proposed replacing RNNs with self-attention and started\n",
      "the effort to evaluate this idea. Ashish, with Illia, designed and implemented the first Transformer models and\n",
      "has been crucially involved in every aspect of this work. Noam proposed scaled dot-product attention, multi-head\n",
      "attention and the parameter-free position representation and became the other person involved in nearly every\n",
      "detail. Niki designed, implemented, tuned and evaluated countless model variants in our original codebase and\n",
      "tensor2tensor. Llion also experimented with novel model variants, was responsible for our initial codebase, and\n",
      "efficient inference and visualizations. Lukasz and Aidan spent countless long days designing various parts of and\n",
      "implementing tensor2tensor, replacing our earlier codebase, greatly improving results and massively accelerating\n",
      "our research.\n",
      "†Work performed while at Google Brain.\n",
      "‡Work performed while at Google Research.\n",
      "31st Conference on Neural Information Processing Systems (NIPS 2017), Long Beach, CA, USA.arXiv:1706.03762v7  [cs.CL]  2 Aug 2023\n"
     ]
    }
   ],
   "source": [
    "print(pdf_docs[0].page_content)"
   ]
  },
  {
   "cell_type": "code",
   "execution_count": 7,
   "id": "2fbc413b",
   "metadata": {},
   "outputs": [
    {
     "name": "stdout",
     "output_type": "stream",
     "text": [
      "{'source': './data/transformer.pdf', 'page': 0}\n"
     ]
    }
   ],
   "source": [
    "print(pdf_docs[0].metadata)"
   ]
  },
  {
   "cell_type": "code",
   "execution_count": 8,
   "id": "3067c480",
   "metadata": {},
   "outputs": [
    {
     "name": "stderr",
     "output_type": "stream",
     "text": [
      "USER_AGENT environment variable not set, consider setting it to identify your requests.\n"
     ]
    },
    {
     "data": {
      "text/plain": [
       "2"
      ]
     },
     "execution_count": 8,
     "metadata": {},
     "output_type": "execute_result"
    }
   ],
   "source": [
    "# 웹 검색\n",
    "from langchain_community.document_loaders import WebBaseLoader\n",
    "\n",
    "web_loader = WebBaseLoader(['https://python.langchain.com/', 'https://js.langchain.com/'])\n",
    "\n",
    "web_docs = web_loader.load()\n",
    "\n",
    "len(web_docs)"
   ]
  },
  {
   "cell_type": "code",
   "execution_count": 9,
   "id": "3c5558a2",
   "metadata": {},
   "outputs": [
    {
     "name": "stdout",
     "output_type": "stream",
     "text": [
      "\n",
      "\n",
      "\n",
      "\n",
      "\n",
      "Introduction | 🦜️🔗 LangChain\n",
      "\n",
      "\n",
      "\n",
      "\n",
      "\n",
      "\n",
      "\n",
      "\n",
      "Skip to main contentOur new LangChain Academy Course Deep Research with LangGraph is now live! Enroll for free.IntegrationsAPI ReferenceMoreContributingPeopleError referenceLangSmithLangGraphLangChain HubLangChain JS/TSv0.3v0.3v0.2v0.1💬SearchIntroductionTutorialsBuild a Question Answering application over a Graph DatabaseTutorialsBuild a simple LLM application with chat models and prompt templatesBuild a ChatbotBuild a Retrieval Augmented Generation (RAG) App: Part 2Build an Extraction ChainBuild an AgentTaggingBuild a Retrieval Augmented Generation (RAG) App: Part 1Build a semantic search engineBuild a Question/Answering system over SQL dataSummarize TextHow-to guidesHow-to guidesHow to use tools in a chainHow to use a vectorstore as a retrieverHow to add memory to chatbotsHow to use example selectorsHow to add a semantic layer over graph databaseHow to invoke runnables in parallelHow to stream chat model responsesHow to add default invocation args to a RunnableHow to add retrieval to chatbotsHow to use few shot examples in chat modelsHow to do tool/function callingHow to install LangChain packagesHow to add examples to the prompt for query analysisHow to use few shot examplesHow to run custom functionsHow to use output parsers to parse an LLM response into structured formatHow to handle cases where no queries are generatedHow to route between sub-chainsHow to return structured data from a modelHow to summarize text through parallelizationHow to summarize text through iterative refinementHow to summarize text in a single LLM callHow to use toolkitsHow to add ad-hoc tool calling capability to LLMs and Chat ModelsBuild an Agent with AgentExecutor (Legacy)How to construct knowledge graphsHow to partially format prompt templatesHow to handle multiple queries when doing query analysisHow to use built-in tools and toolkitsHow to pass through arguments from one step to the nextHow to compose prompts togetherHow to handle multiple retrievers when doing query analysisHow to add values to a chain's stateHow to construct filters for query analysisHow to configure runtime chain internalsHow to deal with high-cardinality categoricals when doing query analysisCustom Document LoaderHow to use the MultiQueryRetrieverHow to add scores to retriever resultsCachingHow to use callbacks in async environmentsHow to attach callbacks to a runnableHow to propagate callbacks  constructorHow to dispatch custom callback eventsHow to pass callbacks in at runtimeHow to split by characterHow to cache chat model responsesHow to handle rate limitsHow to init any model in one lineHow to track token usage in ChatModelsHow to add tools to chatbotsHow to split codeHow to do retrieval with contextual compressionHow to convert Runnables to ToolsHow to create custom callback handlersHow to create a custom chat model classCustom EmbeddingsHow to create a custom LLM classCustom RetrieverHow to create toolsHow to debug your LLM appsHow to load CSVsHow to load documents from a directoryHow to load HTMLHow to load JSONHow to load MarkdownHow to load Microsoft Office filesHow to load PDFsHow to load web pagesHow to create a dynamic (self-constructing) chainText embedding modelsHow to combine results from multiple retrieversHow to select examples from a LangSmith datasetHow to select examples by lengthHow to select examples by maximal marginal relevance (MMR)How to select examples by n-gram overlapHow to select examples by similarityHow to use reference examples when doing extractionHow to handle long text when doing extractionHow to use prompting alone (no tool calling) to do extractionHow to add fallbacks to a runnableHow to filter messagesHybrid SearchHow to use the LangChain indexing APIHow to inspect runnablesLangChain Expression Language CheatsheetHow to cache LLM responsesHow to track token usage for LLMsRun models locallyHow to get log probabilitiesHow to reorder retrieved results to mitigate the \"lost in the middle\" effectHow to split Markdown by HeadersHow to merge consecutive messages of the same typeHow to add message historyHow to migrate from legacy LangChain agents to LangGraphHow to retrieve using multiple vectors per documentHow to pass multimodal data to modelsHow to use multimodal promptsHow to create a custom Output ParserHow to use the output-fixing parserHow to parse JSON outputHow to retry when a parsing error occursHow to parse text from message objectsHow to parse XML outputHow to parse YAML outputHow to use the Parent Document RetrieverHow to use LangChain with different Pydantic versionsHow to add chat historyHow to get a RAG application to add citationsHow to do per-user retrievalHow to get your RAG application to return sourcesHow to stream results from your RAG applicationHow to split JSON dataHow to recursively split text by charactersResponse metadataHow to pass runtime secrets to runnablesHow to do \"self-querying\" retrievalHow to split text based on semantic similarityHow to chain runnablesHow to save and load LangChain objectsHow to split text by tokensHow to split HTMLHow to do question answering over CSVsHow to deal with large databases when doing SQL question-answeringHow to better prompt when doing SQL question-answeringHow to do query validation as part of SQL question-answeringHow to stream runnablesHow to stream responses from an LLMHow to use a time-weighted vector store retrieverHow to return artifacts from a toolHow to use chat models to call toolsHow to disable parallel tool callingHow to force models to call a toolHow to access the RunnableConfig from a toolHow to pass tool outputs to chat modelsHow to pass run time values to toolsHow to stream events from a toolHow to stream tool callsHow to convert tools to OpenAI FunctionsHow to handle tool errorsHow to use few-shot prompting with tool callingHow to add a human-in-the-loop for toolsHow to bind model-specific toolsHow to trim messagesHow to create and query vector storesConceptual guideAgentsArchitectureAsync programming with LangChainCallbacksChat historyChat modelsDocument loadersEmbedding modelsEvaluationExample selectorsFew-shot promptingConceptual guideKey-value storesLangChain Expression Language (LCEL)MessagesMultimodalityOutput parsersPrompt TemplatesRetrieval augmented generation (RAG)RetrievalRetrieversRunnable interfaceStreamingStructured outputsTestingString-in, string-out llmsText splittersTokensTool callingToolsTracingVector storesWhy LangChain?Ecosystem🦜🛠️ LangSmith🦜🕸️ LangGraphVersionsv0.3v0.2Pydantic compatibilityMigrating from v0.0 chainsHow to migrate from v0.0 chainsMigrating from ConstitutionalChainMigrating from ConversationalChainMigrating from ConversationalRetrievalChainMigrating from LLMChainMigrating from LLMMathChainMigrating from LLMRouterChainMigrating from MapReduceDocumentsChainMigrating from MapRerankDocumentsChainMigrating from MultiPromptChainMigrating from RefineDocumentsChainMigrating from RetrievalQAMigrating from StuffDocumentsChainUpgrading to LangGraph memoryHow to migrate to LangGraph memoryHow to use BaseChatMessageHistory with LangGraphMigrating off ConversationBufferMemory or ConversationStringBufferMemoryMigrating off ConversationBufferWindowMemory or ConversationTokenBufferMemoryMigrating off ConversationSummaryMemory or ConversationSummaryBufferMemoryA Long-Term Memory AgentRelease policySecurity PolicyIntroductionOn this pageIntroduction\n",
      "LangChain is a framework for developing applications powered by large language models (LLMs).\n",
      "LangChain simplifies every stage of the LLM application lifecycle:\n",
      "\n",
      "Development: Build your applications using LangChain's open-source components and third-party integrations.\n",
      "Use LangGraph to build stateful agents with first-class streaming and human-in-the-loop support.\n",
      "Productionization: Use LangSmith to inspect, monitor and evaluate your applications, so that you can continuously optimize and deploy with confidence.\n",
      "Deployment: Turn your LangGraph applications into production-ready APIs and Assistants with LangGraph Platform.\n",
      "\n",
      "\n",
      "\n",
      "LangChain implements a standard interface for large language models and related\n",
      "technologies, such as embedding models and vector stores, and integrates with\n",
      "hundreds of providers. See the integrations page for\n",
      "more.\n",
      "\n",
      "Select chat model:Google Gemini▾OpenAIAnthropicAzureGoogle GeminiGoogle VertexAWSGroqCohereNVIDIAFireworks AIMistral AITogether AIIBM watsonxDatabricksxAIPerplexityDeepSeekpip install -qU \"langchain[google-genai]\"import getpassimport osif not os.environ.get(\"GOOGLE_API_KEY\"):  os.environ[\"GOOGLE_API_KEY\"] = getpass.getpass(\"Enter API key for Google Gemini: \")from langchain.chat_models import init_chat_modelmodel = init_chat_model(\"gemini-2.5-flash\", model_provider=\"google_genai\")\n",
      "model.invoke(\"Hello, world!\")\n",
      "noteThese docs focus on the Python LangChain library. Head here for docs on the JavaScript LangChain library.\n",
      "Architecture​\n",
      "The LangChain framework consists of multiple open-source libraries. Read more in the\n",
      "Architecture page.\n",
      "\n",
      "langchain-core: Base abstractions for chat models and other components.\n",
      "Integration packages (e.g. langchain-openai, langchain-anthropic, etc.): Important integrations have been split into lightweight packages that are co-maintained by the LangChain team and the integration developers.\n",
      "langchain: Chains, agents, and retrieval strategies that make up an application's cognitive architecture.\n",
      "langchain-community: Third-party integrations that are community maintained.\n",
      "langgraph: Orchestration framework for combining LangChain components into production-ready applications with persistence, streaming, and other key features. See LangGraph documentation.\n",
      "\n",
      "Guides​\n",
      "Tutorials​\n",
      "If you're looking to build something specific or are more of a hands-on learner, check out our tutorials section.\n",
      "This is the best place to get started.\n",
      "These are the best ones to get started with:\n",
      "\n",
      "Build a Simple LLM Application\n",
      "Build a Chatbot\n",
      "Build an Agent\n",
      "Introduction to LangGraph\n",
      "\n",
      "Explore the full list of LangChain tutorials here, and check out other LangGraph tutorials here. To learn more about LangGraph, check out our first LangChain Academy course, Introduction to LangGraph, available here.\n",
      "How-to guides​\n",
      "Here you’ll find short answers to “How do I….?” types of questions.\n",
      "These how-to guides don’t cover topics in depth – you’ll find that material in the Tutorials and the API Reference.\n",
      "However, these guides will help you quickly accomplish common tasks using chat models,\n",
      "vector stores, and other common LangChain components.\n",
      "Check out LangGraph-specific how-tos here.\n",
      "Conceptual guide​\n",
      "Introductions to all the key parts of LangChain you’ll need to know! Here you'll find high level explanations of all LangChain concepts.\n",
      "For a deeper dive into LangGraph concepts, check out this page.\n",
      "Integrations​\n",
      "LangChain is part of a rich ecosystem of tools that integrate with our framework and build on top of it.\n",
      "If you're looking to get up and running quickly with chat models, vector stores,\n",
      "or other LangChain components from a specific provider, check out our growing list of integrations.\n",
      "API reference​\n",
      "Head to the reference section for full documentation of all classes and methods in the LangChain Python packages.\n",
      "Ecosystem​\n",
      "🦜🛠️ LangSmith​\n",
      "Trace and evaluate your language model applications and intelligent agents to help you move from prototype to production.\n",
      "🦜🕸️ LangGraph​\n",
      "Build stateful, multi-actor applications with LLMs. Integrates smoothly with LangChain, but can be used without it. LangGraph powers production-grade agents, trusted by Linkedin, Uber, Klarna, GitLab, and many more.\n",
      "Additional resources​\n",
      "Versions​\n",
      "See what changed in v0.3, learn how to migrate legacy code, read up on our versioning policies, and more.\n",
      "Security​\n",
      "Read up on security best practices to make sure you're developing safely with LangChain.\n",
      "Contributing​\n",
      "Check out the developer's guide for guidelines on contributing and help getting your dev environment set up.Edit this pageNextTutorialsArchitectureGuidesTutorialsHow-to guidesConceptual guideIntegrationsAPI referenceEcosystem🦜🛠️ LangSmith🦜🕸️ LangGraphAdditional resourcesVersionsSecurityContributingCommunityLangChain ForumTwitterSlackGitHubOrganizationPythonJS/TSMoreHomepageBlogYouTubeCopyright © 2025 LangChain, Inc.\n",
      "\n",
      "\n"
     ]
    }
   ],
   "source": [
    "print(web_docs[0].page_content)"
   ]
  },
  {
   "cell_type": "code",
   "execution_count": 10,
   "id": "f97aeae9",
   "metadata": {},
   "outputs": [
    {
     "name": "stdout",
     "output_type": "stream",
     "text": [
      "{'source': 'https://python.langchain.com/', 'title': 'Introduction | 🦜️🔗 LangChain', 'description': 'LangChain is a framework for developing applications powered by large language models (LLMs).', 'language': 'en'}\n"
     ]
    }
   ],
   "source": [
    "print(web_docs[0].metadata)"
   ]
  },
  {
   "cell_type": "code",
   "execution_count": 13,
   "id": "c5b7fa08",
   "metadata": {},
   "outputs": [
    {
     "name": "stdout",
     "output_type": "stream",
     "text": [
      "문서의 수:  10\n",
      "--------------------------------------------------\n",
      "첫 번째 문서 내용:  Team: KIA 타이거즈\n",
      "City: 광주\n",
      "Founded: 1982\n",
      "Home Stadium: 광주-기아 챔피언스 필드\n",
      "Championships: 11\n",
      "Introduction: KBO 리그의 전통 강호로, 역대 최다 우승 기록을 보유하고 있다. '타이거즈 스피릿'으로 유명하며, 양현종, 안치홍 등 스타 선수들을 배출했다. 광주를 연고로 하는 유일한 프로야구팀으로 지역 사랑이 강하다.\n",
      "--------------------------------------------------\n",
      "첫 번째 문서의 메타데이터:  {'source': './data/kbo_teams_2023.csv', 'row': 0}\n"
     ]
    }
   ],
   "source": [
    "from langchain_community.document_loaders import CSVLoader\n",
    "\n",
    "csv_loader = CSVLoader(file_path='./data/kbo_teams_2023.csv', encoding='utf-8')\n",
    "\n",
    "csv_docs = csv_loader.load()\n",
    "\n",
    "print('문서의 수: ', len(csv_docs))\n",
    "print('-'*50)\n",
    "print('첫 번째 문서 내용: ', csv_docs[0].page_content)\n",
    "print('-'*50)\n",
    "print('첫 번째 문서의 메타데이터: ', csv_docs[0].metadata)"
   ]
  },
  {
   "cell_type": "code",
   "execution_count": null,
   "id": "45e1a699",
   "metadata": {},
   "outputs": [
    {
     "name": "stdout",
     "output_type": "stream",
     "text": [
      "생성된 텍스트 청크 수: 52\n",
      "각 청크의 길이 [981, 910, 975, 451, 932, 998, 904, 907, 995, 385, 926, 953, 216, 920, 996, 829, 975, 910, 906, 870, 929, 961, 945, 997, 195, 977, 968, 947, 933, 965, 938, 915, 733, 952, 945, 948, 618, 980, 989, 994, 624, 945, 914, 946, 918, 988, 929, 929, 849, 812, 814, 817]\n"
     ]
    }
   ],
   "source": [
    "# RecursiveCharacterTextSpliter\n",
    "from langchain_text_splitters import RecursiveCharacterTextSplitter\n",
    "\n",
    "text_splitter = RecursiveCharacterTextSplitter(\n",
    "    chunk_size=1000, # 청크 크기\n",
    "    chunk_overlap=200, # 청크 간의 겹치는 부분 크기\n",
    "    length_function=len, # 글자 수를 기준\n",
    "    separators=['\\n\\n', '\\n']\n",
    ")\n",
    "\n",
    "texts = text_splitter.split_documents(pdf_docs)\n",
    "print(f'생성된 텍스트 청크 수: {len(texts)}')\n",
    "print(f'각 청크의 길이 {list(len(text.page_content) for text in texts)}')\n",
    "# print(f'각 청크의 길이 {[len(text.page_content) for text in texts]}')"
   ]
  },
  {
   "cell_type": "code",
   "execution_count": 21,
   "id": "c9ea5a5f",
   "metadata": {},
   "outputs": [
    {
     "name": "stdout",
     "output_type": "stream",
     "text": [
      "Provided proper attribution is provided, Google hereby grants permission to\n",
      "reproduce the tables and figures in this paper solely for use in journalistic or\n",
      "scholarly works.\n",
      "Attention Is All You Need\n",
      "\n",
      "--------------------------------------------------------------------------------------------------------------------------------------------------------------------------------------------------------\n",
      "the encoder and decoder through an attention\n",
      "mechanism. We propose a new simple network architecture, the Transformer,\n",
      "based solely on attention mechanisms, dispensing with recurrence and convolutions\n",
      "--------------------------------------------------------------------------------------------------------------------------------------------------------------------------------------------------------\n",
      "\n",
      "mechanism. We propose a new simple network architecture, the Transformer,\n",
      "based solely on attention mechanisms, dispensing with recurrence and convolutions\n",
      "entirely. Experiments on two machine transla\n",
      "--------------------------------------------------------------------------------------------------------------------------------------------------------------------------------------------------------\n",
      "the\n",
      "best models from the literature. We show that the Transformer generalizes well to\n",
      "other tasks by applying it successfully to English constituency parsing both with\n",
      "large and limited training data.\n",
      "--------------------------------------------------------------------------------------------------------------------------------------------------------------------------------------------------------\n",
      "\n",
      "best models from the literature. We show that the Transformer generalizes well to\n",
      "other tasks by applying it successfully to English constituency parsing both with\n",
      "large and limited training data.\n",
      "∗Eq\n",
      "--------------------------------------------------------------------------------------------------------------------------------------------------------------------------------------------------------\n",
      " experimented with novel model variants, was responsible for our initial codebase, and\n",
      "efficient inference and visualizations. Lukasz and Aidan spent countless long days designing various parts of and\n",
      "--------------------------------------------------------------------------------------------------------------------------------------------------------------------------------------------------------\n",
      "\n",
      "efficient inference and visualizations. Lukasz and Aidan spent countless long days designing various parts of and\n",
      "implementing tensor2tensor, replacing our earlier codebase, greatly improving results \n",
      "--------------------------------------------------------------------------------------------------------------------------------------------------------------------------------------------------------\n",
      "ormed while at Google Brain.\n",
      "‡Work performed while at Google Research.\n",
      "31st Conference on Neural Information Processing Systems (NIPS 2017), Long Beach, CA, USA.arXiv:1706.03762v7  [cs.CL]  2 Aug 2023\n",
      "--------------------------------------------------------------------------------------------------------------------------------------------------------------------------------------------------------\n",
      "\n",
      "1 Introduction\n",
      "Recurrent neural networks, long short-term memory [ 13] and gated recurrent [ 7] neural networks\n",
      "in particular, have been firmly established as state of the art approaches in sequence m\n",
      "--------------------------------------------------------------------------------------------------------------------------------------------------------------------------------------------------------\n",
      "\n",
      "sequential nature precludes parallelization within training examples, which becomes critical at longer\n",
      "sequence lengths, as memory constraints limit batching across examples. Recent work has achieved\n",
      "--------------------------------------------------------------------------------------------------------------------------------------------------------------------------------------------------------\n",
      "\n"
     ]
    }
   ],
   "source": [
    "for text in texts[:5]:\n",
    "    print(text.page_content[:200])\n",
    "    print('-' * 200)\n",
    "    print(text.page_content[-200:])\n",
    "    print('-' * 200)\n",
    "    print()"
   ]
  },
  {
   "cell_type": "code",
   "execution_count": 24,
   "id": "4099e0be",
   "metadata": {},
   "outputs": [
    {
     "name": "stdout",
     "output_type": "stream",
     "text": [
      "생성된 텍스트 청크 수: 49\n",
      "각 청크의 길이 [991, 886, 940, 210, 907, 823, 785, 945, 880, 1000, 899, 838, 842, 865, 773, 927, 939, 527, 979, 928, 944, 594, 922, 935, 991, 534, 965, 780, 926, 524, 974, 944, 844, 291, 882, 996, 987, 400, 945, 982, 937, 617, 988, 921, 974, 548, 812, 814, 817]\n"
     ]
    }
   ],
   "source": [
    "# 정규표현식 분할\n",
    "from langchain_text_splitters import CharacterTextSplitter\n",
    "\n",
    "text_splitter = CharacterTextSplitter(\n",
    "    chunk_size=1000,\n",
    "    chunk_overlap=100,\n",
    "    separator=r'(?<=[.!?])\\s+',\n",
    "    is_separator_regex=True,\n",
    "    keep_separator=True\n",
    ")\n",
    "\n",
    "texts = text_splitter.split_documents(pdf_docs)\n",
    "print(f'생성된 텍스트 청크 수: {len(texts)}')\n",
    "print(f'각 청크의 길이 {list(len(text.page_content) for text in texts)}')"
   ]
  },
  {
   "cell_type": "code",
   "execution_count": 25,
   "id": "28a937c6",
   "metadata": {},
   "outputs": [
    {
     "name": "stdout",
     "output_type": "stream",
     "text": [
      "Provided proper attribution is provided, Google hereby grants permission to\n",
      "reproduce the tables and\n",
      "--------------------------------------------------------------------------------------------------------------------------------------------------------------------------------------------------------\n",
      "sformer,\n",
      "based solely on attention mechanisms, dispensing with recurrence and convolutions\n",
      "entirely.\n",
      "--------------------------------------------------------------------------------------------------------------------------------------------------------------------------------------------------------\n",
      "\n",
      "Experiments on two machine translation tasks show these models to\n",
      "be superior in quality while being\n",
      "--------------------------------------------------------------------------------------------------------------------------------------------------------------------------------------------------------\n",
      "dom. Jakob proposed replacing RNNs with self-attention and started\n",
      "the effort to evaluate this idea.\n",
      "--------------------------------------------------------------------------------------------------------------------------------------------------------------------------------------------------------\n",
      "\n",
      "Jakob proposed replacing RNNs with self-attention and started\n",
      "the effort to evaluate this idea. Ashi\n",
      "--------------------------------------------------------------------------------------------------------------------------------------------------------------------------------------------------------\n",
      "ating\n",
      "our research.\n",
      "†Work performed while at Google Brain.\n",
      "‡Work performed while at Google Research.\n",
      "--------------------------------------------------------------------------------------------------------------------------------------------------------------------------------------------------------\n",
      "\n",
      "†Work performed while at Google Brain.\n",
      "‡Work performed while at Google Research.\n",
      "31st Conference on \n",
      "--------------------------------------------------------------------------------------------------------------------------------------------------------------------------------------------------------\n",
      "ormation Processing Systems (NIPS 2017), Long Beach, CA, USA.arXiv:1706.03762v7  [cs.CL]  2 Aug 2023\n",
      "--------------------------------------------------------------------------------------------------------------------------------------------------------------------------------------------------------\n",
      "\n",
      "1 Introduction\n",
      "Recurrent neural networks, long short-term memory [ 13] and gated recurrent [ 7] neur\n",
      "--------------------------------------------------------------------------------------------------------------------------------------------------------------------------------------------------------\n",
      "h becomes critical at longer\n",
      "sequence lengths, as memory constraints limit batching across examples.\n",
      "--------------------------------------------------------------------------------------------------------------------------------------------------------------------------------------------------------\n",
      "\n"
     ]
    }
   ],
   "source": [
    "for text in texts[:5]:\n",
    "    print(text.page_content[:100])\n",
    "    print('-' * 200)\n",
    "    print(text.page_content[-100:])\n",
    "    print('-' * 200)\n",
    "    print()"
   ]
  },
  {
   "cell_type": "code",
   "execution_count": 26,
   "id": "64e74e53",
   "metadata": {},
   "outputs": [
    {
     "name": "stderr",
     "output_type": "stream",
     "text": [
      "c:\\Users\\USER\\AppData\\Local\\pypoetry\\Cache\\virtualenvs\\langchain-env-t9ymxAh_-py3.11\\Lib\\site-packages\\huggingface_hub\\file_download.py:143: UserWarning: `huggingface_hub` cache-system uses symlinks by default to efficiently store duplicated files but your machine does not support them in C:\\Users\\USER\\.cache\\huggingface\\hub\\models--BAAI--bge-m3. Caching files will still work but in a degraded version that might require more space on your disk. This warning can be disabled by setting the `HF_HUB_DISABLE_SYMLINKS_WARNING` environment variable. For more details, see https://huggingface.co/docs/huggingface_hub/how-to-cache#limitations.\n",
      "To support symlinks on Windows, you either need to activate Developer Mode or to run Python as an administrator. In order to activate developer mode, see this article: https://docs.microsoft.com/en-us/windows/apps/get-started/enable-your-device-for-development\n",
      "  warnings.warn(message)\n"
     ]
    },
    {
     "data": {
      "text/plain": [
       "XLMRobertaTokenizerFast(name_or_path='BAAI/bge-m3', vocab_size=250002, model_max_length=8192, is_fast=True, padding_side='right', truncation_side='right', special_tokens={'bos_token': '<s>', 'eos_token': '</s>', 'unk_token': '<unk>', 'sep_token': '</s>', 'pad_token': '<pad>', 'cls_token': '<s>', 'mask_token': '<mask>'}, clean_up_tokenization_spaces=True),  added_tokens_decoder={\n",
       "\t0: AddedToken(\"<s>\", rstrip=False, lstrip=False, single_word=False, normalized=False, special=True),\n",
       "\t1: AddedToken(\"<pad>\", rstrip=False, lstrip=False, single_word=False, normalized=False, special=True),\n",
       "\t2: AddedToken(\"</s>\", rstrip=False, lstrip=False, single_word=False, normalized=False, special=True),\n",
       "\t3: AddedToken(\"<unk>\", rstrip=False, lstrip=False, single_word=False, normalized=False, special=True),\n",
       "\t250001: AddedToken(\"<mask>\", rstrip=False, lstrip=True, single_word=False, normalized=False, special=True),\n",
       "}"
      ]
     },
     "execution_count": 26,
     "metadata": {},
     "output_type": "execute_result"
    }
   ],
   "source": [
    "from transformers import AutoTokenizer\n",
    "\n",
    "tokenizer = AutoTokenizer.from_pretrained('BAAI/bge-m3')\n",
    "\n",
    "tokenizer"
   ]
  },
  {
   "cell_type": "code",
   "execution_count": 27,
   "id": "642c1418",
   "metadata": {},
   "outputs": [
    {
     "name": "stdout",
     "output_type": "stream",
     "text": [
      "[0, 107687, 5, 20451, 54272, 16367, 5, 2]\n"
     ]
    }
   ],
   "source": [
    "tokens = tokenizer.encode('안녕하세요. 반갑습니다.')\n",
    "print(tokens)"
   ]
  },
  {
   "cell_type": "code",
   "execution_count": 28,
   "id": "45d5eae1",
   "metadata": {},
   "outputs": [
    {
     "name": "stdout",
     "output_type": "stream",
     "text": [
      "['<s>', '▁안녕하세요', '.', '▁반', '갑', '습니다', '.', '</s>']\n"
     ]
    }
   ],
   "source": [
    "print(tokenizer.convert_ids_to_tokens(tokens))"
   ]
  },
  {
   "cell_type": "code",
   "execution_count": 29,
   "id": "57bc7748",
   "metadata": {},
   "outputs": [
    {
     "name": "stdout",
     "output_type": "stream",
     "text": [
      "<s> 안녕하세요. 반갑습니다.</s>\n"
     ]
    }
   ],
   "source": [
    "print(tokenizer.decode(tokens))"
   ]
  },
  {
   "cell_type": "code",
   "execution_count": 35,
   "id": "5924c00c",
   "metadata": {},
   "outputs": [
    {
     "data": {
      "text/plain": [
       "OpenAIEmbeddings(client=<openai.resources.embeddings.Embeddings object at 0x0000027F0823F510>, async_client=<openai.resources.embeddings.AsyncEmbeddings object at 0x0000027F08212B10>, model='text-embedding-3-small', dimensions=None, deployment='text-embedding-ada-002', openai_api_version='', openai_api_base=None, openai_api_type='', openai_proxy='', embedding_ctx_length=8191, openai_api_key=SecretStr('**********'), openai_organization=None, allowed_special=None, disallowed_special=None, chunk_size=1000, max_retries=2, request_timeout=None, headers=None, tiktoken_enabled=True, tiktoken_model_name=None, show_progress_bar=False, model_kwargs={}, skip_empty=False, default_headers=None, default_query=None, retry_min_seconds=4, retry_max_seconds=20, http_client=None, http_async_client=None, check_embedding_ctx_length=True)"
      ]
     },
     "execution_count": 35,
     "metadata": {},
     "output_type": "execute_result"
    }
   ],
   "source": [
    "# 임베딩\n",
    "from langchain_openai import OpenAIEmbeddings\n",
    "\n",
    "embeddings_model = OpenAIEmbeddings(model='text-embedding-3-small')\n",
    "\n",
    "embeddings_model"
   ]
  },
  {
   "cell_type": "code",
   "execution_count": 33,
   "id": "7282d902",
   "metadata": {},
   "outputs": [
    {
     "data": {
      "text/plain": [
       "8191"
      ]
     },
     "execution_count": 33,
     "metadata": {},
     "output_type": "execute_result"
    }
   ],
   "source": [
    "embeddings_model.embedding_ctx_length"
   ]
  },
  {
   "cell_type": "code",
   "execution_count": 36,
   "id": "d412ec5f",
   "metadata": {},
   "outputs": [
    {
     "name": "stdout",
     "output_type": "stream",
     "text": [
      "임베딩 벡터의 개수: 5\n",
      "임베딩 벡터의 차원: 1536\n",
      "[-0.002467886544764042, 0.012224489822983742, -0.0024611251428723335, 0.014883947558701038, 0.018462946638464928, -0.045652519911527634, -0.003132750978693366, 0.04702281579375267, -0.018174462020397186, -0.03187743201851845, 0.006851484067738056, 0.0070723542012274265, -0.018571127206087112, -0.027063362300395966, 0.004985356237739325, -0.01579447276890278, -0.041541628539562225, 0.010060863569378853, 0.05149431154131889, -0.045904941856861115, -0.014532358385622501, -0.027748510241508484, -0.018841581419110298, -0.022609896957874298, 0.004532346967607737, -0.0398828499019146, 0.05023219436407089, 0.017759768292307854, 0.00026467800489626825, -0.02349337749183178, 0.04889795929193497, -0.015325687825679779, -0.029948197305202484, -0.06159123405814171, 0.020410209894180298, 0.035483475774526596, 0.0025512762367725372, -0.006788378115743399, -0.005116075277328491, 0.02484564483165741, 0.007563677616417408, 0.027441997081041336, -0.002440841170027852, 0.02616185136139393, -0.017849918454885483, 0.005363990552723408, -0.02572912536561489, 0.0036759113427251577, 0.00754564767703414, 0.056650955229997635, -0.025025947019457817, 0.03009243868291378, 0.007919774390757084, -0.03499665856361389, -0.0019776897970587015, 0.09534380584955215, 0.013675922527909279, 0.029281077906489372, 0.0036691499408334494, 0.030525164678692818, 0.015289627015590668, 0.015208491124212742, 0.003617312991991639, 0.020897025242447853, -0.05185491591691971, -0.024521101266145706, 0.03636695444583893, 0.02616185136139393, -0.020031575113534927, -0.029064716771245003, 0.009105261415243149, -0.019634909927845, -0.045147672295570374, 0.02132975123822689, -0.0006473975954577327, -0.01246789749711752, -0.06505303829908371, 0.02556685358285904, 0.01284653227776289, 0.024485040456056595, -0.0042618936859071255, 0.00046089751413092017, 0.04817675054073334, -0.060004573315382004, -0.009042155928909779, -0.022880351170897484, -0.0010147633729502559, -0.05766064673662186, -0.053189150989055634, -0.004597706254571676, -0.030380921438336372, 0.0490061417222023, 0.00436105951666832, 0.004128920380026102, -0.052972789853811264, 0.032400306314229965, 0.0609421469271183, -0.05221552029252052, 0.003563222475349903, 0.027784571051597595, -0.051566433161497116, -0.005769670475274324, 0.03169712796807289, 0.054703690111637115, 0.0017545658629387617, -0.02170838601887226, -0.007081369403749704, 0.0199414249509573, -0.021744446828961372, 0.008163182064890862, -0.010295256040990353, -0.0049898638390004635, -0.07565480470657349, 0.04042375460267067, -0.05805731192231178, -0.01959885098040104, 0.028668051585555077, -0.023385196924209595, -0.0232409555464983, -0.00727068679407239, -0.02340322732925415, 0.02946138009428978, 0.03440166264772415, -0.004424165468662977, -0.01786794885993004, -0.024737462401390076, 0.014847886748611927, -0.03270681947469711, -0.025043977424502373, -0.004669827409088612, -0.0048591443337500095, -0.026810938492417336, -0.012026157230138779, 0.02805502340197563, 0.04175799340009689, -0.016578787937760353, 0.005391036160290241, 0.025170188397169113, -0.0014345294330269098, -0.0534055158495903, 0.01925627514719963, -0.019634909927845, 0.017795827239751816, 0.012792441993951797, -0.029064716771245003, -0.052504003047943115, -0.012981759384274483, 0.01807529665529728, 0.03963042423129082, 0.04157768934965134, -0.04684251546859741, -0.018805520609021187, -0.07060634344816208, -0.03919770196080208, -0.05059279873967171, 0.02412443608045578, 0.0005313280853442848, 0.03285106271505356, -0.01180979423224926, -0.028505779802799225, 0.008095568977296352, -0.008086553774774075, -0.03333787992596626, 0.0098174549639225, -0.02610776014626026, 0.04064011946320534, -0.022231262177228928, 0.046914633363485336, -0.01871536858379841, 0.002334913704544306, -0.027820629999041557, -0.010448512621223927, -0.024448979645967484, -0.02120354026556015, 0.005778685677796602, 0.014757735654711723, 0.021257629618048668, 0.01574038341641426, -0.04897008091211319, -0.026270031929016113, -0.031048040837049484, -0.018679309636354446, -0.00023946387227624655, 0.026865029707551003, -0.008334469981491566, -0.02488170564174652, 0.016732044517993927, -0.0477440245449543, -0.029046686366200447, 0.019310366362333298, 0.03647513687610626, 0.026125790551304817, 0.019292335957288742, 0.04356101527810097, 0.00821276567876339, -0.02654048427939415, -0.0011866139248013496, -0.053982481360435486, -0.010899268090724945, -0.0032792463898658752, 0.02911880612373352, -0.040604058653116226, -0.025422612205147743, -0.013928345404565334, 0.012269564904272556, 0.006608075927942991, 0.041794050484895706, 0.006662166677415371, -0.03160697594285011, -0.02675684727728367, -0.01875142939388752, -0.025584883987903595, 0.0732026994228363, 0.00044596625957638025, -0.03413120657205582, -0.060329120606184006, 0.020392179489135742, 0.007856668904423714, -0.01405455730855465, 0.030074408277869225, -0.006671181879937649, -0.008018940687179565, 0.013008804060518742, -0.005287362262606621, 0.005228763911873102, -0.002675234107300639, 0.021600205451250076, -0.03627680614590645, 0.025963518768548965, -0.034185297787189484, -0.02349337749183178, 0.029767895117402077, 0.002774400170892477, -0.00842011347413063, 0.00237097404897213, -0.013207136653363705, -0.011728658340871334, -0.02280822955071926, 0.011431160382926464, 0.005868836771696806, 0.008411098271608353, -0.0002641145547386259, -0.005296377465128899, -0.020049605518579483, -0.008622952736914158, -0.005909404717385769, -0.0005175236728973687, 0.02729775384068489, -0.004115398041903973, -0.011719643138349056, 0.018039235845208168, -0.028758201748132706, 0.023457316681742668, -0.02107732743024826, 0.011359038762748241, 0.004678842145949602, 0.03009243868291378, -0.026720786467194557, 0.005363990552723408, -0.001969801727682352, -0.014478267170488834, 0.013730012811720371, -0.026143820956349373, -0.032183945178985596, 0.01316206157207489, 0.007414928171783686, -0.0031372583471238613, 0.02720760367810726, -0.0389452762901783, -0.02603563852608204, -0.013135015964508057, 0.04045981541275978, 0.014784781262278557, -0.02547670155763626, -0.040820419788360596, 0.01250395830720663, -0.036763619631528854, 0.021834596991539, -0.02242959477007389, 0.05041249841451645, -0.05243188142776489, 0.029821984469890594, 0.04579675942659378, -0.003585760248824954, -0.001703855930827558, 5.652051549986936e-05, -0.03661938011646271, -0.020897025242447853, -0.012314640916883945, -0.06260092556476593, 0.06263698637485504, 0.0022233515046536922, -0.015866594389081, 0.043236467987298965, 0.029948197305202484, -0.01785893365740776, -0.011431160382926464, 0.04684251546859741, -0.005165658425539732, 0.0065179248340427876, 0.023817921057343483, -0.05827367305755615, -0.017741737887263298, -0.020410209894180298, 0.004922250285744667, 0.024016253650188446, -0.04965522885322571, 0.016263259574770927, -0.0021872911602258682, -0.03696195408701897, -0.015569095499813557, 0.007360837887972593, 0.07450087368488312, 0.00914132222533226, -0.027369875460863113, -0.01611901819705963, -0.01735408790409565, -0.05730004236102104, 0.002943433588370681, -0.017372118309140205, -0.014793796464800835, 0.03804376721382141, 0.012395776808261871, -0.02789275161921978, -0.030362892895936966, 0.012657214887440205, -0.00093644461594522, 0.019328396767377853, -0.014712660573422909, -0.04727523773908615, 0.07183240354061127, 0.061519112437963486, -0.030398951843380928, 0.004832099191844463, -0.008154167793691158, -0.03449181094765663, -0.026738816872239113, 0.014153723604977131, -0.050845224410295486, -0.035952258855104446, -0.05643459036946297, 0.021492023020982742, -0.048140689730644226, 0.050268255174160004, 0.01041245274245739, 0.00023242081806529313, -0.0020396688487380743, 0.00771242706105113, 0.019797181710600853, -0.0006321846158243716, 0.01878749020397663, -0.011485250666737556, -0.017543405294418335, -0.020554451271891594, -0.03696195408701897, -0.006675689481198788, -0.0468064546585083, -0.008704089559614658, -0.02416049689054489, -0.04045981541275978, -0.04832099378108978, -0.0012226743856444955, 0.03782740235328674, 0.04258738085627556, 0.03977466747164726, 0.009997757151722908, 0.0024476025719195604, -0.02666669711470604, -0.007189550437033176, 0.0015010158531367779, -0.032274097204208374, -0.0004141316458117217, 0.011999111622571945, -0.07139967381954193, -0.009159352630376816, -0.02984001487493515, -0.01832772046327591, 0.027063362300395966, -0.045904941856861115, 0.016263259574770927, 0.026432303711771965, 0.05499217286705971, 0.007365345023572445, -0.02264595776796341, -0.03220197558403015, 0.005345960613340139, -0.01107055600732565, -0.012521988712251186, -0.06876726448535919, 0.032400306314229965, 0.029154866933822632, -0.032021671533584595, -0.029479410499334335, 0.0038584673311561346, -0.01235971599817276, -0.02751411683857441, -0.01878749020397663, -0.055388838052749634, -0.03955830633640289, 0.024575190618634224, -0.031426675617694855, -0.030903799459338188, -0.02459322102367878, 0.021978838369250298, 0.014748720452189445, -0.040063150227069855, 0.0562182292342186, 0.0596800297498703, 0.009898590855300426, 0.03463605418801308, 0.004144696984440088, -0.06260092556476593, 0.03851255029439926, -0.0003969465906266123, -0.03523105010390282, -0.04915038123726845, -0.01997748389840126, 0.03321166709065437, 0.020752783864736557, 0.0006502148462459445, 0.019562790170311928, 0.02713548205792904, 0.03995496779680252, -0.03458196297287941, 0.007090384140610695, 0.020247938111424446, 0.03735861927270889, 0.005368498153984547, 0.05282854661345482, -0.012332671321928501, -0.004931265488266945, 0.006792885717004538, -0.023349136114120483, -0.0035136393271386623, -0.05149431154131889, -0.0005826015258207917, 0.02315080352127552, 0.015379778109490871, -0.00969124399125576, 0.02475549280643463, 0.0032634700182825327, -0.021383842453360558, 0.006157320458441973, -0.021528083831071854, -0.014090617187321186, 0.03851255029439926, -0.02933516912162304, -0.02493579499423504, -0.0109172984957695, -0.053693998605012894, 0.029100775718688965, -0.06526940315961838, 0.031174251809716225, 0.03901739791035652, -0.015623186714947224, -0.049366746097803116, 0.02116747945547104, -0.03436560183763504, 0.011350024491548538, 0.024773523211479187, -0.0007240260601975024, 0.016732044517993927, -0.02610776014626026, -0.008190227672457695, -0.005544292740523815, 0.038368310779333115, 0.0464819110929966, 0.006896559614688158, -0.05135006830096245, 0.038332249969244, -0.011250858195126057, -0.03553756698966026, 0.017840903252363205, -0.02315080352127552, 0.014965083450078964, -9.381349082104862e-05, -0.004473748616874218, -0.012927668169140816, -0.044931311160326004, -0.007144474890083075, 0.008523787371814251, -0.0025422610342502594, 0.010664875619113445, 0.011277902871370316, 0.035952258855104446, 0.04219071567058563, -0.06725272536277771, 0.00600857101380825, 0.059824272990226746, -0.004773500841110945, 0.01240479201078415, -0.032652728259563446, 0.0794772133231163, 0.0025760678108781576, 0.029767895117402077, 0.04897008091211319, -0.012098277918994427, 0.006423266138881445, 0.010727981105446815, 0.013180091045796871, 0.023511407896876335, -0.02974986471235752, -0.010169044137001038, 0.027730479836463928, 0.005526262801140547, -0.0004310349759180099, -0.05217945948243141, 0.02196080982685089, -0.004338521976023912, -0.019670970737934113, 0.03200364112854004, 0.04294798523187637, -0.0036375969648361206, 0.009871546179056168, -0.009826470166444778, 0.006671181879937649, -0.009321624413132668, 0.007982879877090454, 0.027063362300395966, -0.027099421247839928, -0.009357684291899204, -0.022375503554940224, -0.02886638417840004, 0.0021557381842285395, -7.152222678996623e-05, -0.05416278541088104, -0.009556016884744167, -0.01658780314028263, 0.009537986479699612, -0.017281966283917427, 0.01620916835963726, -0.017155755311250687, 0.015505990013480186, -0.039089519530534744, -0.017967114225029945, 0.013080925680696964, 0.009979727678000927, 0.015136370435357094, -0.04186617210507393, -0.01052063424140215, 0.016371440142393112, -0.014685614965856075, 0.009339654818177223, 0.02497185580432415, -0.007257163990288973, 0.04702281579375267, -0.011034495197236538, -0.037142254412174225, 0.003815645584836602, 0.029010625556111336, 0.020500361919403076, 0.0002872157783713192, 0.036925893276929855, -0.022952470928430557, 0.011241842992603779, -0.0044061350636184216, 0.0064818644896149635, -0.0259094275534153, -0.0026166357565671206, -0.02691911906003952, 0.008483218960464, -0.020770814269781113, -0.04215465486049652, -0.004300207830965519, 0.00848772656172514, 0.010664875619113445, 0.028451688587665558, -0.01642553135752678, 0.021816566586494446, 0.029389260336756706, -0.04550827667117119, 0.02984001487493515, -0.01646159216761589, 0.06213214248418808, -0.009772379882633686, -0.0420825369656086, 0.010132984258234501, -0.027225634083151817, -0.011999111622571945, 0.02455716021358967, 0.020518390461802483, 0.01542485412210226, 0.031931519508361816, 0.013098955154418945, 0.040820419788360596, 1.3813191799272317e-05, 0.0027991917449980974, 0.020662633702158928, 0.0325084887444973, -0.029317138716578484, 0.03407711908221245, 0.018679309636354446, -0.013856224715709686, -0.02729775384068489, -0.02585533633828163, -0.015605156309902668, 0.007680874317884445, 0.016263259574770927, 0.01383819431066513, 0.024394888430833817, -0.004719410091638565, 0.01301781926304102, 0.02057248167693615, 0.005242286715656519, -0.024917764589190483, -0.03158894553780556, -0.01574038341641426, 0.03615059331059456, 0.007324777077883482, -0.010358361527323723, -0.013432514853775501, 0.008438142947852612, 0.008045986294746399, -0.023222925141453743, -0.005810238886624575, -0.01108858548104763, 0.00043159842607565224, 3.120073233731091e-05, 0.026053668931126595, -0.014910992234945297, 0.008744657039642334, -0.006441296543926001, 0.033770602196455, -0.016091972589492798, 0.004277669824659824, -0.031048040837049484, 0.0012857801048085093, -0.00937571469694376, -0.020897025242447853, 0.001779357437044382, 0.007622275967150927, 0.07327482104301453, -0.013558725826442242, 0.03606044128537178, -0.009628137573599815, -0.06602666527032852, -0.01136805396527052, -0.0063195922411978245, 0.012521988712251186, -0.009429805912077427, -0.022537775337696075, 0.004557138308882713, 0.00954700168222189, -0.031084101647138596, 0.029317138716578484, -0.008879884146153927, 0.001027159160003066, -0.02886638417840004, 0.009015110321342945, 0.006878529209643602, 0.0033941890578716993, -0.025332460179924965, -0.03339196741580963, 0.012666230089962482, -0.004545869305729866, -0.01650666631758213, -0.003653373569250107, -0.03047107346355915, 0.023890042677521706, 0.0015641216887161136, 0.00986253097653389, -0.013910314999520779, 0.020518390461802483, -0.015325687825679779, -0.006810916122049093, 0.04655402898788452, 0.01938248798251152, 0.03652922809123993, -0.006892052013427019, -0.011908960528671741, -0.028379566967487335, 0.01947263814508915, 0.011268887668848038, 0.009601092897355556, -0.04035163298249245, 0.03364439308643341, 0.0021501039154827595, 0.017290981486439705, 0.04291192442178726, 0.03818800672888756, -0.01498311385512352, -0.018228553235530853, -0.018183477222919464, -0.043705254793167114, 0.017155755311250687, 0.004306969232857227, 0.014478267170488834, 0.018859611824154854, 0.019580820575356483, -0.06306971609592438, 0.015902655199170113, 0.02899259515106678, -0.025134127587080002, -0.004606721457093954, -0.06526940315961838, -0.013098955154418945, 0.01866127923130989, -0.039594363421201706, -0.03268878906965256, 0.025512762367725372, -0.024737462401390076, 0.008771702647209167, 0.012197444215416908, -0.02352943830192089, -0.025675034150481224, -0.01587560959160328, 0.045436155050992966, -0.0076628439128398895, -0.010845177806913853, -0.0035271618980914354, -0.02006763592362404, 0.0006158447358757257, -0.018228553235530853, -0.010358361527323723, 0.035970289260149, -0.008393067866563797, 0.04457070678472519, -0.02268201857805252, 0.00954700168222189, -0.04305616766214371, -0.026738816872239113, -0.0259094275534153, -0.012449867092072964, -0.012531003914773464, -0.005116075277328491, -0.026973210275173187, -0.03901739791035652, -0.007784547749906778, -0.03395090624690056, -0.00030679546762257814, 0.025242310017347336, -0.010755026713013649, -0.021654294803738594, -0.008618445135653019, 0.06018487736582756, -0.008077538572251797, -0.03876497596502304, -0.004437688272446394, -0.02383595146238804, -0.017741737887263298, 9.663071250542998e-05, -0.01871536858379841, 0.027117451652884483, 0.03490650653839111, -0.017597496509552002, 0.026179879903793335, 0.00011395663022994995, 0.0018142909975722432, 0.013793119229376316, -0.044426463544368744, 0.009772379882633686, -0.0028690588660538197, 0.03203970193862915, -0.025548823177814484, 0.0004535727493930608, -0.010060863569378853, 0.012963728979229927, 0.00529186986386776, 0.013739028014242649, -0.02302459254860878, 0.02437685802578926, 0.02095111645758152, 0.0016813181573525071, 0.009366699494421482, 0.0016576534835621715, 0.0021185509394854307, 0.004194280132651329, -0.023547468706965446, -0.0028284909203648567, 0.012521988712251186, 0.02902865596115589, -0.012981759384274483, -0.005769670475274324, 0.0015212999423965812, 0.04017133265733719, -0.0016813181573525071, 0.006224933546036482, -0.048140689730644226, -0.005900389980524778, 0.03128243237733841, 0.011530326679348946, -0.020085666328668594, -0.01941854879260063, -0.0015303150285035372, -0.008167689666152, -0.02120354026556015, 0.026432303711771965, 0.03330181911587715, -0.009637152776122093, -0.024286707863211632, -0.005116075277328491, 0.021311720833182335, -0.04038769379258156, -0.005084522068500519, -0.013441530056297779, 0.011764719150960445, 0.0028555362951010466, 0.011963051743805408, 0.002871312666684389, -0.002823983319103718, 0.03826012834906578, 0.007734964601695538, 0.04363313317298889, 0.034726206213235855, 0.0540185421705246, 0.00920893531292677, -0.015289627015590668, 0.045904941856861115, -0.04702281579375267, -0.029353199526667595, 0.03247242793440819, -0.010457527823746204, -0.015163416042923927, 0.045652519911527634, -0.019652940332889557, -0.03231015428900719, -0.008942989632487297, -0.0025625452399253845, -0.005814746022224426, -0.01428894978016615, 0.03149879723787308, 0.0005411883466877043, -0.005589368287473917, -0.01058373972773552, 0.038620732724666595, -0.014793796464800835, -0.01816544681787491, 0.02365564927458763, -0.03149879723787308, 0.004557138308882713, 0.07680874317884445, 0.01887764036655426, 0.033878784626722336, 0.0005113257793709636, 0.035068780183792114, 0.0009691243758425117, -0.017931055277585983, -0.010286240838468075, -0.02823532558977604, 0.03238227590918541, -0.013802134431898594, 0.006499894428998232, 0.002418303396552801, 0.01812037266790867, -0.03488847613334656, -0.002413795795291662, -0.017759768292307854, 0.016921361908316612, -0.021492023020982742, -0.006251979153603315, -0.031570915132761, 0.007338299881666899, 0.024863675236701965, -0.0098174549639225, 0.06631515175104141, 0.013306302949786186, 0.01849900744855404, -0.015334703028202057, 0.02082490548491478, -0.007680874317884445, 0.01191797573119402, 0.03402302786707878, 0.035789988934993744, -0.01726393587887287, 0.032183945178985596, -0.017381133511662483, 0.0011280156904831529, 0.02217717096209526, 0.000984900863841176, 0.015848563984036446, 0.029190927743911743, 0.051746733486652374, -0.014703645370900631, -0.017336057499051094, -0.016137048602104187, -0.02497185580432415, -0.004926757887005806, 0.022068990394473076, -0.010746011510491371, -0.014451222494244576, 0.012630169279873371, -0.0820014476776123, 0.024521101266145706, -0.034852415323257446, 0.01831870526075363, -0.008677043952047825, -0.011999111622571945, 0.025548823177814484, -0.04749160259962082, 0.04211859777569771, -0.003094436600804329, -0.032742880284786224, 0.011413129977881908, -0.012693275697529316, 0.028451688587665558, 0.03977466747164726, -0.01841787062585354, 0.010024802759289742, -0.0034122192300856113, 0.010637830011546612, -0.020121727138757706, -0.02708139270544052, -0.014297964982688427, -0.03703407198190689, -0.018129387870430946, 0.020374149084091187, 0.016362424939870834, 0.013630847446620464, 0.015478944405913353, -0.03665544092655182, 0.013802134431898594, 0.023944133892655373, -0.0005699240136891603, -0.021726416423916817, 0.011629492044448853, -0.054198842495679855, 0.013441530056297779, 0.023817921057343483, -0.07471723854541779, -0.004818576388061047, -0.009019617922604084, -0.009393745101988316, -0.0015539797022938728, 0.004485017620027065, 0.02682896889746189, 0.02789275161921978, -0.04024345427751541, -0.051566433161497116, -0.03166106715798378, 0.021942779421806335, 0.0026436811313033104, -0.010132984258234501, 0.01052063424140215, -0.012323656119406223, -0.00517467362806201, 0.001203517196699977, -0.011530326679348946, 0.008045986294746399, 0.008541816845536232, -0.0700293779373169, 0.0003513075935188681, -0.03072349727153778, -0.013044864870607853, -0.006774855311959982, -0.032021671533584595, 0.0067207650281488895, 0.02556685358285904, 0.00688754441216588, 0.01053866371512413, 0.047852206975221634, 0.007658336311578751, -0.06393516063690186, 0.02318686433136463, -0.002121931640431285, 0.027532147243618965, 0.018300674855709076, 0.05798519030213356, 0.006342130247503519, -0.011322978883981705, 0.010746011510491371, 0.0006806408637203276, -0.05304491147398949, 0.005233271513134241, -0.013107970356941223, -0.013450545258820057, -0.01113366149365902, 0.0030696450266987085, -0.009447835385799408, 0.0067252726294100285, 0.01903991401195526, 0.015460914000868797, -0.019184155389666557, 0.027279723435640335, 0.013720998540520668, 0.00951995700597763, -0.021654294803738594, 0.02484564483165741, -0.03241833671927452, -0.02044627070426941, -0.036583319306373596, 0.054956112056970596, 0.006409743335098028, 0.005463156849145889, -0.01604689657688141, 0.03963042423129082, -0.006991218309849501, 0.02535049058496952, 0.017759768292307854, -0.0009420790593139827, -0.01473069004714489, -0.001027159160003066, -0.037863463163375854, 0.0027924305759370327, -0.05254006385803223, 0.04316435009241104, -0.008375037461519241, -0.0008220653980970383, -0.047635842114686966, -0.016948407515883446, 0.0021275661420077085, -0.02560291439294815, 0.016614848747849464, -0.021870657801628113, -0.022537775337696075, 0.00882579293102026, -0.02890244498848915, -0.0455443374812603, -0.00018607750826049596, 0.016488637775182724, 0.029064716771245003, 0.030254710465669632, -0.01295471377670765, 0.021564144641160965, -0.00015396118396893144, 0.033590301871299744, 0.022970501333475113, -0.030795617029070854, 0.01394637580960989, 0.016966437920928, -0.0027496085967868567, 0.009853515774011612, -0.03753891959786415, 0.027964873239398003, -0.04536403715610504, -0.01587560959160328, 0.00347081758081913, 0.024611251428723335, -0.01684022694826126, 0.0037931078113615513, 0.018517035990953445, -0.023078681901097298, 0.005075507331639528, -0.0044714948162436485, 0.022754138335585594, -0.015478944405913353, 0.0496191680431366, -0.022627927362918854, -0.023763831704854965, 0.05459550768136978, 0.005490202456712723, -6.613428558921441e-05, 0.021365812048316002, -0.007599737960845232, 0.009781395085155964, -0.007915266789495945, 0.010457527823746204, -0.03306742385029793, -0.014586448669433594, -0.00622042641043663, 0.0565427727997303, 0.0254406426101923, 0.006905574817210436, -0.02670275792479515, 0.030759556218981743, -0.023547468706965446, 0.02780260145664215, -0.043669193983078, 0.006901067215949297, -0.0007268432527780533, -6.289448356255889e-05, -0.03618665412068367, -0.001997973769903183, -0.009046663530170918, 0.020590512081980705, -0.010123969055712223, 0.012801457196474075, -0.013829179108142853, 0.024827614426612854, -0.00015001707652118057, -0.007117429748177528, 3.499517902127991e-07, -0.009195412509143353, 0.01003381796181202, -0.03247242793440819, 0.013216151855885983, 0.007559170015156269, -0.05481187254190445, -0.03342802822589874, 0.01244085282087326, 0.008947497233748436, 0.024178525432944298, 0.020716723054647446, 0.02129369042813778, 0.022447625175118446, 0.005571338348090649, 0.029641682282090187, 0.01726393587887287, 0.006630613934248686, 0.0054135737009346485, -0.02022990770637989, -0.03559165447950363, -0.00886636134237051, -0.016921361908316612, -0.004225832875818014, -0.004214564338326454, 0.019166124984622, -0.017327042296528816, 0.026396242901682854, 0.019364457577466965, -0.018985822796821594, 0.007293224334716797, 0.01959885098040104, -0.02675684727728367, 0.009709274396300316, -0.011061540804803371, -0.017408179119229317, -0.01849900744855404, -0.04143344610929489, 0.009628137573599815, 0.03945012390613556, 0.02865002118051052, 0.026468364521861076, 0.01399145182222128, -0.005043954122811556, -0.036511197686195374, 0.01938248798251152, -0.018345749005675316, 0.00920893531292677, -0.00545864924788475, 0.022880351170897484, -0.009619123302400112, -0.0028465210925787687, -0.045436155050992966, 0.029353199526667595, 0.016858257353305817, -0.0024318259675055742, -0.011016464792191982, 0.009943666867911816, 0.0035970290191471577, 0.010601770132780075, -0.03288712352514267, 0.01399145182222128, 0.009258517995476723, -0.01030427124351263, 0.024953825399279594, -0.03301333263516426, -0.011232827790081501, 0.0010733616072684526, -0.01278342679142952, 0.021510053426027298, -0.005625429097563028, 0.016921361908316612, -0.014622509479522705, 0.0009516575955785811, -0.018607188016176224, 0.000647961045615375, -0.03530317172408104, -0.008983557112514973, 0.02670275792479515, -0.0022132096346467733, 0.008127122186124325, -0.005877851974219084, -0.01655174233019352, -0.012648199684917927, 0.010105938650667667, -0.030507134273648262, -0.004532346967607737, 0.023313075304031372, -0.003838183358311653, 0.0512058287858963, 0.016236213967204094, -0.03405908867716789, -0.027189573273062706, 0.029551532119512558, -0.043741315603256226, 0.005778685677796602, 0.011422145180404186, -0.024827614426612854, 0.026522455736994743, -0.01913006417453289, -0.01587560959160328, -0.006197888404130936, 0.005485694855451584, 0.006707242224365473, 0.015100309625267982, -0.004651797004044056, 0.0028217295184731483, -0.0013432514388114214, -0.005052969325333834, -0.006067169364541769, 0.011485250666737556, 0.061014268547296524, 0.007946819998323917, -0.053225211799144745, -0.02877623215317726, -0.011647522449493408, 0.031102130189538002, 0.01777779869735241, 0.01702052913606167, -0.024521101266145706, -0.04482312873005867, -0.009411775507032871, -0.03496059775352478, -0.006477356888353825, -0.05016007274389267, 0.010565709322690964, -0.03699801489710808, -0.020680664107203484, -0.019634909927845, -0.013107970356941223, -0.015316672623157501, -0.0032747387886047363, 0.011268887668848038, -0.038620732724666595, 0.04478706791996956, 0.004532346967607737, -0.013937360607087612, 0.0054541416466236115, 0.003892273874953389, -0.01997748389840126, 0.021113388240337372, -0.04723917692899704, -0.03643907606601715, -0.06862302124500275, -0.02383595146238804, -0.011386084370315075, -0.019400518387556076, -0.010169044137001038, -0.004054545890539885, 0.019689001142978668, -0.012305625714361668, 0.02729775384068489, 0.024575190618634224, -0.0012745112180709839, 0.009889576584100723, 0.0034054580610245466, -0.031048040837049484, -0.03474423661828041, 0.05455944687128067, 0.057840947061777115, -0.017489314079284668, -0.006310577504336834, 0.029767895117402077, -0.0001483267406001687, -0.013892285525798798, 0.006134782452136278, 0.00037722603883594275, -0.0033040379639714956, -0.03292318433523178, -0.019526729360222816, -0.016281289979815483, 0.02632412314414978, -0.0028262371197342873, -0.019634909927845, -0.024232616648077965, -0.006806408520787954, 0.00645481888204813, -0.023511407896876335, 0.0022075751330703497, -0.004444449674338102, -0.0356457456946373, 0.02946138009428978, -0.014153723604977131, 0.009465865790843964, 0.0017072365153580904, 0.008194735273718834, -0.012621155008673668, -0.018535066395998, 0.044967371970415115, 0.004144696984440088, -0.010457527823746204, -0.02556685358285904, 0.018435901030898094, 0.021510053426027298, 0.025206249207258224, -0.016623863950371742, -0.008753672242164612, 0.01831870526075363, -0.03634892404079437, 0.027243664488196373, -0.001895427005365491, 0.000548231415450573, -0.03512287139892578, -0.0015629947884008288, -0.02057248167693615, 0.022195201367139816, -0.013243197463452816, -0.0003721550165209919, -0.030272740870714188, 0.0016125779366120696, -0.008352499455213547, 0.017976129427552223, 0.007820608094334602, 0.02713548205792904, -0.004505301360040903, -0.0012170398840680718, -0.040063150227069855, 0.023313075304031372, -0.009082723408937454, 0.03259864076972008, -0.04085648059844971, 0.016704998910427094, -0.018805520609021187, 0.007523109670728445, 0.0016441307961940765, -0.022375503554940224, 0.0012102785985916853, -0.01776878349483013, 0.007748487405478954, 0.006743302568793297, 0.03669149801135063, 0.007716934662312269, -0.002880327869206667, -0.005864329170435667, 0.008059509098529816, -0.02899259515106678, 0.003790854010730982, 0.016533711925148964, 0.020500361919403076, -0.030957888811826706, -0.002600859384983778, 0.021618233993649483, 0.0002798910136334598, -0.017191816121339798, 0.025837305933237076, -0.01081813219934702, -0.030290771275758743, 0.006531447637826204, 0.0009978599846363068, 0.012558048591017723, 0.026648666709661484, 0.009159352630376816, -0.06988513469696045, -0.017074618488550186, 0.01721886172890663, 0.0014683360932394862, 0.020752783864736557, 0.004737440496683121, 0.00017100537661463022, 0.013612817041575909, 0.009727303870022297, -0.007671859115362167, -0.027153512462973595, -0.02670275792479515, -0.006752317771315575, -0.0007967103738337755, -0.0008451666217297316, -0.008893406018614769, 0.018643248826265335, -0.005156643223017454, -0.006058154162019491, -0.0002472112246323377, 0.03872891515493393, -0.0025016930885612965, -0.026432303711771965, 0.04291192442178726, 0.0028870890382677317, -0.012143353931605816, 0.011836839839816093, -0.01748029887676239, -0.03321166709065437, 0.005467664450407028, 0.014216829091310501, 0.046914633363485336, 0.00025608547730371356, -0.023349136114120483, 0.04125314578413963, -0.025332460179924965, 0.003928334452211857, 0.001300429692491889, -0.02053642086684704, -0.02839759737253189, -0.04071223735809326, -0.013928345404565334, 0.0018492245581001043, -0.023439286276698112, -0.005530770402401686, 0.0021230585407465696, 0.025927457958459854, 0.0009584189392626286, -0.0028735664673149586, 0.019689001142978668, -0.002382243052124977, -0.025927457958459854, 0.031048040837049484, 0.013387438841164112, -0.01449629757553339, 0.0033130531664937735, 0.042046476155519485, -0.0003591958084143698, -0.016533711925148964, -0.019995514303445816, 0.01803022064268589, -0.011097600683569908, 0.03261667117476463, 0.02971380390226841, 0.04049587622284889, -0.036511197686195374, 0.04359707236289978, -0.0005547110340557992, -0.021852627396583557, 0.05362187698483467, 0.003502370323985815, -0.019779153168201447, -0.038873154670000076, 0.030831677839159966, 0.00344377220608294, 0.0055803535506129265, 0.047383420169353485, -0.01761552505195141, 0.019400518387556076, 0.020392179489135742, -0.044462524354457855, -0.012549033388495445, 0.03436560183763504, -0.001913457177579403, 0.022700048983097076, -0.008983557112514973, 0.02306065335869789, 0.024358827620744705, 0.0041559659875929356, 0.004433180671185255, 0.016091972589492798, -0.029353199526667595, 0.03663741052150726, -0.012540018185973167, -0.03175121918320656, 0.012585094198584557, 0.0005792208248749375, -0.02188868820667267, -0.014992129057645798, 0.013892285525798798, 0.03898133710026741, -0.005323422607034445, 0.03072349727153778, -0.009745334275066853, -0.017534390091896057, 0.004083844833076, 0.010989419184625149, -0.018535066395998, 0.005476679652929306, 0.03514090180397034, -0.013116985559463501, -0.003049361053854227, 0.024394888430833817, -0.006599060725420713, 0.024052314460277557, -0.003995947539806366, 0.0022233515046536922, 0.032057732343673706, 0.006089706905186176, -0.006644136272370815, -0.025260338559746742, -0.024773523211479187, 0.020428240299224854, 0.0433446504175663, -0.01504621934145689, 0.010682906024158001, 0.007473526522517204, -0.001703855930827558, -0.015938716009259224, 0.030633345246315002, 0.009646167978644371, 0.010430483147501945, 0.00041103269904851913, 0.0046337665989995, 0.02484564483165741, 0.003058376256376505, 0.004011724144220352, 0.0006423266022466123, 0.022123081609606743, -0.02654048427939415, 0.02421458624303341, 0.02874017134308815, -0.016371440142393112, 0.009619123302400112, -0.007450988981872797, 0.0018638740293681622, 0.025837305933237076, 0.009763364680111408, -0.007798070553690195, 0.020770814269781113, -0.005251301918178797, 0.03021864965558052, 0.027946842834353447, -0.02729775384068489, 0.0314086452126503, 0.015551065094769001, -0.013378423638641834, -0.029190927743911743, -0.014856901951134205, 0.019436577335000038, 0.005273839458823204, -0.030543195083737373, -0.022862320765852928, 0.008253333158791065, 0.004052292089909315, -0.02306065335869789, -0.016191137954592705, -0.011106615886092186, -0.031643036752939224, 0.005625429097563028, 0.03072349727153778, -0.00038314220728352666, 0.012368731200695038, -0.016452576965093613, 0.033878784626722336, -0.0050259241834282875, -0.014766750857234001, 0.015460914000868797, 0.03106607124209404, 0.006148305255919695, -0.009790410287678242, -0.02641427330672741, 0.021762477234005928, 0.009871546179056168, 0.01377508882433176, -0.00038539597881026566, -0.0004524458490777761, 0.004917742684483528, 0.018931731581687927, 0.00039835518691688776, -0.008555339649319649, -0.03955830633640289, -0.005309900268912315, -0.017507344484329224, -0.016191137954592705, 0.00789723638445139, -0.02509806677699089, 0.021473992615938187, -0.012341686524450779, 0.027441997081041336, -0.022231262177228928, -0.006959665101021528, 0.008167689666152, -0.02450307086110115, -0.037394676357507706, 0.008631967939436436, -0.046914633363485336, 0.007793562952429056, 0.015515005216002464, 0.03128243237733841, -0.0025850830134004354, -0.0038178993854671717, 0.012449867092072964, 0.00019988190615549684]\n"
     ]
    }
   ],
   "source": [
    "documents = [\n",
    "    \"인공지능은 컴퓨터 과학의 한 분야입니다.\",\n",
    "    \"머신러닝은 인공지능의 하위 분야입니다.\",\n",
    "    \"딥러닝은 머신러닝의 한 종류입니다.\",\n",
    "    \"자연어 처리는 컴퓨터가 인간의 언어를 이해하고 생성하는 기술입니다.\",\n",
    "    \"컴퓨터 비전은 컴퓨터가 디지털 이미지나 비디오를 이해하는 방법을 연구합니다.\"\n",
    "]\n",
    "\n",
    "document_embeddings = embeddings_model.embed_documents(documents)\n",
    "\n",
    "print(f'임베딩 벡터의 개수: {len(document_embeddings)}')\n",
    "print(f'임베딩 벡터의 차원: {len(document_embeddings[0])}')\n",
    "print(document_embeddings[0])"
   ]
  },
  {
   "cell_type": "code",
   "execution_count": 38,
   "id": "fb5ab34d",
   "metadata": {},
   "outputs": [
    {
     "name": "stdout",
     "output_type": "stream",
     "text": [
      "임베딩 벡터의 차원: 1536\n",
      "[-0.022036956623196602, 0.026740197092294693, 0.0005004897247999907, 0.010051279328763485, 0.012146876193583012, -0.04460492357611656, -0.03324507921934128, 0.03739834576845169, -0.0008285194053314626, 0.013189933262765408, -0.0014851713785901666, 0.0003200289502274245, -0.005381227470934391, -0.07278643548488617, 0.00756216561421752, -0.016518235206604004, -0.06284894049167633, -0.019097430631518364, 0.021031828597187996, -0.0700555220246315, -0.026000574231147766, 0.02543163299560547, -0.03275199979543686, 0.003913835622370243, 0.013170968741178513, -0.05245630070567131, 0.011056407354772091, 0.0016724475426599383, -0.01273478101938963, -0.033415764570236206, 0.025678174570202827, -0.019287077710032463, 0.0025839374866336584, -0.05693196505308151, 0.048701293766498566, -0.004347652662545443, -0.002244943752884865, -0.008932363241910934, -0.005532945040613413, 0.022947261109948158, -0.010345231741666794, 0.036260463297367096, 0.005850603338330984, 0.035957030951976776, -0.046653106808662415, 0.03432606905698776, -0.03282785788178444, 0.00631523784250021, -0.007837153039872646, 0.039067238569259644, -0.04293603077530861, 0.03470535948872566, -0.008453505113720894, -0.006580743473023176, -0.006196708418428898, 0.0642523318529129, 0.01117967814207077, 0.03242959827184677, -0.005495015531778336, 0.04680482670664787, -0.00028787789051420987, -0.002332655480131507, 0.016802705824375153, 0.04012925922870636, -0.059056006371974945, -0.023269660770893097, 0.0006033138488419354, 0.0370759442448616, -0.03722766414284706, -0.022947261109948158, 0.041532646864652634, 0.004231493920087814, -0.07153476774692535, -0.005570874083787203, -0.01723889261484146, 0.012990804389119148, -0.019552582874894142, 0.044073913246393204, 0.0014247214421629906, 0.01393903885036707, 0.021088723093271255, 0.009278468787670135, 0.0003997398598585278, -0.043504972010850906, -0.009638797491788864, -0.018139714375138283, -0.01767507940530777, -0.05746297538280487, -0.0496874563395977, -0.0027356548234820366, -0.0223214253783226, 0.0648212730884552, -0.023895494639873505, 0.031140001490712166, -0.02482476457953453, 0.03967410698533058, 0.08056195080280304, -0.011473630554974079, 0.009060375392436981, 0.02759360708296299, -0.028864240273833275, 0.0013524185633286834, 0.01739061065018177, 0.028295299038290977, 0.021543875336647034, -0.061673134565353394, -0.017400091513991356, 0.026209184899926186, 0.02740396000444889, 0.012867534533143044, 0.026133326813578606, 0.0075669065117836, -0.08268599957227707, 0.0372655913233757, -0.01993187703192234, 0.0003567730018403381, 0.007694918196648359, -0.020899076014757156, -0.010667631402611732, -0.04081198573112488, -0.028409088030457497, -0.012554616667330265, 0.031140001490712166, -0.0030888719484210014, -0.02751774899661541, -0.02789704129099846, -0.0031836952548474073, -0.02981247380375862, -0.023136908188462257, -0.010771937668323517, -0.014640731737017632, 0.021676627919077873, -0.030646920204162598, 0.00479095196351409, 0.024255823343992233, -0.06834869831800461, 0.024255823343992233, 0.03990168124437332, -0.011938264593482018, -0.04756341129541397, 0.010952102020382881, 0.00094586331397295, -0.023155871778726578, -0.0035535066854208708, -0.02806772291660309, -0.04468078166246414, -0.0027806959114968777, -0.013929556123912334, -0.003539283061400056, -0.005627768114209175, -0.061028335243463516, -0.009463374502956867, -0.043808408081531525, -0.03034348599612713, -0.04039476439356804, 0.036241501569747925, -0.014062308706343174, 0.036582864820957184, -0.005224769003689289, -0.004674793221056461, -0.037834532558918, -4.9078513256972656e-05, -0.007197095546871424, -0.004082147032022476, -0.05799398571252823, 0.06212828680872917, -0.01983705349266529, 0.005158392246812582, 0.013180451467633247, -0.005594579968601465, -0.05090119689702988, -0.004191193729639053, -0.016774257645010948, 0.009084081277251244, 0.0002655054850038141, -0.019334489479660988, 0.021012863144278526, 0.002975083887577057, -0.0062773083336651325, -0.05037018656730652, -0.051166702061891556, -0.03459157422184944, -0.034003667533397675, 0.017419056966900826, -0.036051854491233826, 0.013057180680334568, -0.02770739421248436, -0.012004640884697437, 0.0045041111297905445, 0.01895519532263279, 0.017570775002241135, 0.04255673661828041, 0.03470535948872566, 0.026910878717899323, 0.005679921247065067, -0.023459307849407196, -0.0018123120535165071, -0.012583063915371895, 0.029584897682070732, 0.015437248162925243, 0.043694619089365005, -0.046539321541786194, 0.023061048239469528, -0.007652247790247202, 0.0023053938057273626, 0.0223214253783226, 0.05059776082634926, -0.01253565214574337, -0.041267137974500656, -0.012782192789018154, 0.02734706550836563, -0.019372418522834778, 0.06857627630233765, -0.04737376794219017, -0.01920173689723015, -0.014555390924215317, 0.02262486144900322, 0.02776428870856762, -0.03944652900099754, 0.03303647041320801, -0.03567256033420563, 0.00425757048651576, -0.026095397770404816, 0.0034254950005561113, -0.022985190153121948, 0.011777064763009548, 0.009169422090053558, -0.036260463297367096, 0.023952389135956764, -0.035881172865629196, -0.02977454476058483, -0.021790415048599243, 0.0060307676903903484, -0.009046151302754879, -0.020955968648195267, -0.01908794790506363, -0.005049345549196005, -0.00344445975497365, 0.011331395246088505, 0.010430572554469109, 0.015570000745356083, 0.03254338726401329, -0.0051489099860191345, 0.0032121422700583935, 0.003489500842988491, 0.011976194567978382, 0.024028247222304344, 0.03024866245687008, -0.008794869296252728, -0.01769404485821724, 0.006372131872922182, -0.036563899368047714, 0.03182272985577583, -0.0032595540396869183, 0.0034800183493644, -0.00028046980150975287, 0.029091816395521164, 0.03024866245687008, 0.0007372518884949386, 0.019400866702198982, -0.016688916832208633, 0.026929842308163643, -0.025810927152633667, -0.0253178458660841, 0.005945426411926746, 0.004940298851579428, 0.02556438557803631, 0.03038141503930092, -0.008259117603302002, -0.0394086018204689, -0.04194986820220947, 0.0046013048849999905, 0.021278368309140205, -0.01903105527162552, -0.02275761403143406, 0.012649440206587315, 0.005125204101204872, 0.0038687943015247583, -0.03559670224785805, 0.03971203789114952, -0.03828968480229378, -0.005879050120711327, 0.04179815202951431, -0.01906898431479931, 0.010999513790011406, 0.006267826072871685, -0.014071791432797909, -0.06413853913545609, -0.05693196505308151, -0.028333229944109917, 0.07525184005498886, -0.00158592127263546, 0.007856117561459541, 0.02765050157904625, 0.02527991682291031, -0.0037881943862885237, 0.02806772291660309, 0.046653106808662415, -0.008415576070547104, 0.013351133093237877, 0.08731337636709213, -0.03345369175076485, -0.06743839383125305, -0.04813235253095627, -0.030836567282676697, 0.058980148285627365, -0.04517386481165886, 0.009747844189405441, 0.0016736328834667802, -0.029584897682070732, 0.026626408100128174, 0.0349329374730587, 0.036544933915138245, -0.02490062266588211, -0.0066376375034451485, -0.03021073155105114, 0.005561391822993755, -0.022017991170287132, 0.04547729715704918, 0.0022520555648952723, -0.002517560962587595, -0.006613931618630886, -0.007249248214066029, -0.021411120891571045, -0.03533119708299637, -0.0043405406177043915, 0.00557561544701457, -0.0029063369147479534, -0.016982870176434517, -0.013436474837362766, 0.041836079210042953, 0.041229210793972015, -0.02795393578708172, -0.009558198042213917, -0.011540006846189499, -0.008254376240074635, -0.03337783366441727, 0.013929556123912334, -0.046235885471105576, -0.04062234237790108, -0.04517386481165886, 0.026322973892092705, -0.056476812809705734, 0.030741743743419647, 0.041039563715457916, -0.012213252484798431, -0.03239167109131813, -0.0009885338367894292, 0.00158710649702698, 0.02975557930767536, 0.038668978959321976, -0.02277657762169838, -0.008230670355260372, -0.05245630070567131, -0.033510588109493256, 0.00028817422571592033, -0.006272567436099052, 0.0003994435246568173, -0.021259404718875885, -0.03017280250787735, -0.08534105122089386, -0.026152290403842926, 0.031348612159490585, 0.043694619089365005, -0.0003389936173334718, 0.0035487653221935034, 0.012962357141077518, -0.022093849256634712, -0.008420317433774471, -0.026967773213982582, -0.004508852027356625, -0.01882244274020195, 0.02480579912662506, -0.04301188886165619, -0.007538459729403257, -0.0003404752351343632, -0.011103819124400616, 0.02778325416147709, -0.021695591509342194, 0.03011590987443924, 0.016907010227441788, 0.036203570663928986, -0.02015945315361023, -0.06485919654369354, -0.023971352726221085, 0.019590511918067932, 0.009126751683652401, -0.034003667533397675, -0.04274638369679451, 0.04581866413354874, 0.03986375406384468, -0.036544933915138245, -0.023800671100616455, -0.011227089911699295, -0.06451783329248428, 0.0003552913840394467, -0.02975557930767536, -0.036563899368047714, -0.016480306163430214, 0.0037573769222944975, -0.013825250789523125, 0.001188255613669753, -0.008695305325090885, -0.033472657203674316, -0.003079389687627554, -0.04763927310705185, 0.03277096524834633, 0.04081198573112488, 0.002148935105651617, 0.06326616555452347, 0.048625435680150986, -0.03212616592645645, 0.04236708953976631, -0.0022164967376738787, -0.012801158241927624, -0.037834532558918, 0.006495402194559574, -0.0007360665476880968, 0.0139200733974576, 0.005338557064533234, 0.023990318179130554, -0.00952500943094492, -0.012516687624156475, -0.0549217090010643, -0.003662553383037448, 0.015607929788529873, 0.030874496325850487, 0.01771301031112671, 0.07525184005498886, -0.04058441147208214, 0.02552645653486252, 0.036184605211019516, -0.025981608778238297, -0.0222266037017107, -0.05048397183418274, 0.012545134872198105, 0.026360902935266495, -0.014280403032898903, 0.01656564697623253, 0.03504672646522522, -0.01520018931478262, -0.023611024022102356, 0.0017447504214942455, -0.031519293785095215, -0.05442862585186958, 0.02300415374338627, -0.043504972010850906, 0.0033188187517225742, -0.02010255865752697, -0.08253427594900131, -0.0075432006269693375, -0.02789704129099846, 0.03206926956772804, 0.0601559579372406, -0.0003555877192411572, -0.05321488529443741, 0.015626894310116768, -0.012004640884697437, 0.015579483471810818, 0.013958003371953964, -0.036582864820957184, -0.014745037071406841, -0.009396998211741447, 0.044111840426921844, -0.0021916055120527744, -0.008150070905685425, 0.006120849866420031, 0.012308076024055481, -0.03504672646522522, -0.0038024180103093386, -0.07707244902849197, -0.04722204804420471, 0.048928868025541306, -0.02757464163005352, 0.01229859422892332, 0.04255673661828041, 0.018699172884225845, -0.03290371596813202, -0.03690526261925697, 0.011568454094231129, 0.014394191093742847, -0.018244020640850067, 0.018101785331964493, -0.0008948957547545433, 0.04460492357611656, 0.036639757454395294, -0.06550399959087372, -0.013019251637160778, 0.04707033187150955, -0.012858051806688309, -0.023895494639873505, -0.026209184899926186, 0.06770390272140503, -0.0010175735224038363, 0.04953574016690254, 0.018082819879055023, 0.007656988687813282, -0.0399775430560112, -0.002681131474673748, 0.002426293445751071, 0.0028233665507286787, -0.028959063813090324, -0.02524198591709137, 0.049232304096221924, -0.01401489693671465, -0.01489675510674715, 0.004304981790482998, 0.021449051797389984, -0.023212766274809837, -0.025716103613376617, -0.002550749108195305, 0.015645859763026237, 0.008946587331593037, 0.0043998053297400475, 0.0033164480701088905, 0.018272466957569122, -0.001962844282388687, 0.03580531105399132, 0.03024866245687008, -0.014583837240934372, 0.002032776363193989, 0.01023144368082285, -0.009084081277251244, -0.003859312040731311, -0.005698885768651962, -0.04274638369679451, -0.03737938031554222, -0.007775518111884594, -0.007789741735905409, -0.026076432317495346, 0.005765262059867382, -0.004309723153710365, 0.00984266772866249, -0.006357908248901367, -0.028143582865595818, 0.0063768732361495495, 0.031253788620233536, 0.019211219623684883, -0.0197991244494915, 0.0280297938734293, 0.016157906502485275, 0.009065115824341774, 0.0035582478158175945, -0.0052864039316773415, -0.003399418666958809, 0.005205804016441107, -0.009482339024543762, -0.04494628682732582, -0.018158679828047752, 0.0558699406683445, 0.03794832155108452, 0.008633669465780258, 0.019334489479660988, -0.03813796862959862, 0.03457260876893997, 0.0135881919413805, -0.0023741405457258224, -0.006514367181807756, -0.0020055146887898445, -0.005950167775154114, -0.005476051010191441, -0.012241699732840061, -0.02749878354370594, -0.01882244274020195, -0.007069083862006664, -0.013607156462967396, 0.023061048239469528, -0.02478683367371559, 0.020443923771381378, 0.019230183213949203, -0.0498771034181118, 0.012488240376114845, 0.0010614293860271573, 0.04600830748677254, -0.018888819962739944, -0.02467304654419422, 0.01995084062218666, -0.0401671901345253, 0.00079355324851349, 0.04475663974881172, 0.0033164480701088905, 0.002014996949583292, -0.004845475312322378, 0.010857278481125832, 0.03472432494163513, 0.0007698474219068885, -0.01720096357166767, 0.03591910004615784, 0.022947261109948158, 0.0018336473731324077, 0.029509039595723152, 0.0014081273693591356, 0.007851377129554749, -0.04798063635826111, -0.003335412824526429, -0.0017755680019035935, 0.012933910824358463, -0.0006335387588478625, -0.01795955002307892, 0.03675354644656181, 0.009795255959033966, 0.012753746472299099, 0.009463374502956867, 0.00411770585924387, -0.018926749005913734, -0.02271968498826027, -0.004435364156961441, 0.026891913264989853, 0.022093849256634712, -0.038612086325883865, -0.011056407354772091, -0.003828494343906641, 0.00018357216322328895, -0.019476724788546562, -0.043960124254226685, -0.008880210109055042, -0.009060375392436981, 0.02031117118895054, 0.046122096478939056, -0.023117942735552788, -0.01978015899658203, -0.01132191251963377, 0.04441527649760246, -0.012260664254426956, -0.009747844189405441, -0.02283347211778164, -0.006561778485774994, -0.00045811550808139145, -0.03261924535036087, -0.0035321712493896484, 0.0031505071092396975, 0.07221749424934387, -0.02256796695291996, 0.01112278364598751, 0.010051279328763485, -0.04976331442594528, -0.011265018954873085, -0.011720171198248863, 0.02713845483958721, -0.016328588128089905, -0.028371158987283707, 0.015370871871709824, 0.018566420301795006, -0.03011590987443924, 0.01487778965383768, -0.01509588398039341, -0.030931390821933746, -0.013901108875870705, 0.012478758580982685, -0.016025153920054436, -0.014470049180090427, -0.03846036642789841, -0.03445881977677345, -0.007675953675061464, 0.021069757640361786, -0.00560880359262228, -0.0037265592254698277, -0.016461340710520744, 0.023914460092782974, -0.018168162554502487, 0.007457859814167023, -0.014232991263270378, 0.013256310485303402, 0.005295886192470789, -0.010933136567473412, 0.03701905161142349, 0.04957366734743118, 0.02006462961435318, 0.03159515559673309, -0.01272529922425747, -0.0452117919921875, -0.01489675510674715, -0.007756553590297699, 0.011369324289262295, -0.01765611581504345, 0.01897416077554226, -0.027972901239991188, 0.003811900271102786, 0.0164897870272398, 0.008415576070547104, -0.004470922984182835, 0.004371358547359705, -0.02556438557803631, -0.015418283641338348, 0.028465982526540756, 0.034250207245349884, 0.04297396168112755, 0.019590511918067932, -0.003325930330902338, -0.06057318300008774, 0.0020718909800052643, 0.023212766274809837, 0.002671648981049657, 0.004859698936343193, -0.03808107227087021, 0.03225891664624214, 0.005566133186221123, 0.007448377553373575, -0.03227788209915161, 0.03296061232686043, -0.011094336397945881, 0.03476225584745407, 0.016650987789034843, -0.031272754073143005, -0.009572421200573444, -0.010487467050552368, 0.02275761403143406, -0.014811413362622261, 0.01905001886188984, 0.010146102868020535, -0.03015383891761303, 0.0032714069820940495, 0.008548328652977943, -0.013464921154081821, 0.023326553404331207, 0.02497648075222969, 0.04100163280963898, 0.001845500199124217, -0.003918576519936323, -0.02782118320465088, -0.010496949777007103, -0.0056751798838377, 0.0037407828494906425, -0.011540006846189499, -0.00038047885755077004, -0.021335262805223465, -0.048701293766498566, -0.006576002109795809, -0.021430086344480515, -0.024179965257644653, -0.003506094915792346, -0.02765050157904625, -0.020443923771381378, 0.0026953548658639193, 0.05545271933078766, -0.012981322593986988, -0.04270845651626587, -0.0016060711350291967, -0.05086326599121094, 0.005822156090289354, 0.02998315542936325, -0.008491435088217258, 0.02721431292593479, -0.02529888041317463, -0.024692010134458542, 0.01966637186706066, -0.016736328601837158, 0.031557224690914154, 0.0275556780397892, -0.017058728262782097, -0.006504884455353022, 3.070648017455824e-05, 0.018945714458823204, 0.005115721840411425, 0.014858825132250786, 0.021562838926911354, 0.013237345032393932, -0.031443435698747635, 0.02262486144900322, 0.008041023276746273, 0.01616738736629486, -0.0036530711222440004, 0.012981322593986988, 0.024483399465680122, 0.00029587862081825733, 0.0005822748644277453, 0.016366517171263695, 0.00987111497670412, 0.011909818276762962, 0.027176383882761, -0.0001406793890055269, -0.015465695410966873, 0.023288624361157417, 0.01765611581504345, 0.03990168124437332, 0.004402176011353731, -0.004245717544108629, -0.038346581161022186, -0.011492595076560974, 0.0300779789686203, -0.006979001685976982, -0.0013393803965300322, -0.006163520272821188, 0.00013779023720417172, -0.004700869787484407, 0.0021892350632697344, 0.018101785331964493, 0.008059987798333168, -0.005144169088453054, -0.01723889261484146, -0.010392643511295319, 0.02467304654419422, -0.0025839374866336584, -0.02757464163005352, -0.008444023318588734, 0.015427765436470509, 0.0071591660380363464, 0.021543875336647034, 0.008330235257744789, -0.01966637186706066, 0.01978015899658203, 0.023667918518185616, 0.017987998202443123, 0.045894522219896317, 0.024217894300818443, 0.0051299454644322395, -0.01645185798406601, 0.03043830767273903, -0.01889830268919468, -0.03343472629785538, 0.016632022336125374, 0.007832411676645279, -0.022985190153121948, 0.020955968648195267, -0.023231731727719307, -0.025640245527029037, -0.005945426411926746, -0.004712722729891539, -0.00923105701804161, -0.010961583815515041, 0.039105165749788284, -0.0025578609202057123, 0.028010830283164978, -0.006718237418681383, 0.0394086018204689, 0.015939811244606972, -0.0331692211329937, -0.015323460102081299, -0.026816055178642273, 0.00887546967715025, 0.06182485073804855, 0.020481852814555168, 0.025583351030945778, -0.002775954781100154, 0.02795393578708172, 0.012933910824358463, -0.01906898431479931, -0.02512819878757, -0.03406056389212608, 0.014583837240934372, -0.0280297938734293, 0.009984903037548065, -0.01240289956331253, 0.05689403414726257, -0.023876529186964035, 0.0196094773709774, -0.009169422090053558, 0.00010156474309042096, 0.02279554307460785, -0.014574355445802212, -0.02543163299560547, -0.004179340787231922, 0.054087262600660324, 0.003871164983138442, 0.0384034737944603, 0.0008480767137371004, 0.012478758580982685, -0.016878563910722733, -0.0018952825339511037, -0.026835018768906593, -0.001997217768803239, 0.038801733404397964, 0.03544498234987259, 0.00895132776349783, 0.01790265552699566, -0.008628929033875465, -0.015076919458806515, -0.0019735118839889765, -0.00794145930558443, -0.005153651349246502, 0.03318818658590317, 0.03480018302798271, -0.021809380501508713, -0.02541266940534115, 0.0253178458660841, -0.0057368152774870396, -0.0014745037769898772, 0.06550399959087372, -0.00801731739193201, -0.02228349633514881, 0.014536425471305847, -0.046122096478939056, 0.003114948282018304, -0.03508465364575386, -0.03324507921934128, -0.018225055187940598, 0.0023587318137288094, 0.03328301012516022, -0.017229409888386726, 0.024104105308651924, 0.005902756005525589, -0.016944939270615578, 0.01882244274020195, -0.029281463474035263, 0.02012152411043644, 0.03578634932637215, 0.016698399558663368, 0.028503911569714546, -0.0015479918802157044, -0.007187612820416689, 0.0001397904270561412, -0.041077494621276855, -0.007780259009450674, -0.01857590302824974, -0.012772710993885994, 0.03470535948872566, 0.026436761021614075, 0.0409257747232914, 0.021031828597187996, -0.023250695317983627, -0.010146102868020535, 0.0199887715280056, 0.023554129526019096, -0.028333229944109917, -0.0039375415071845055, -0.029376287013292313, -0.009705173783004284, 0.009861632250249386, -0.041077494621276855, -0.059056006371974945, 0.01744750328361988, 0.022074885666370392, 0.010705560445785522, 0.011976194567978382, 0.00695529580116272, 0.015674306079745293, -0.028996992856264114, -0.029433181509375572, -0.011511559598147869, 0.011056407354772091, -0.015494141727685928, -0.020443923771381378, -0.015427765436470509, 0.010677114129066467, 0.019268112257122993, 0.0035653593949973583, -0.028333229944109917, 0.0033591187093406916, 0.0006287976284511387, -0.07054860144853592, 0.0023539906833320856, -0.02975557930767536, -0.010885725729167461, -0.008775904774665833, -0.036222536116838455, -0.0015491771046072245, 0.020785287022590637, 0.02713845483958721, -6.330202450044453e-05, 0.034174349159002304, 0.03535015881061554, -0.06637637317180634, 0.02744188904762268, 0.008225928992033005, 0.013436474837362766, -0.0071070133708417416, 0.06106626242399216, 0.010572807863354683, -0.0077850003726780415, -0.0016404446214437485, 0.013493368402123451, -0.02245417982339859, 0.0013026363449171185, -0.025791961699724197, 0.005988097283989191, -0.006661343388259411, 0.006040249951183796, 0.021581804379820824, 0.00043352070497348905, 0.021809380501508713, -0.02490062266588211, 0.005196321755647659, 0.03309336304664612, 0.012478758580982685, 0.010980548337101936, 0.007870341651141644, 0.026626408100128174, -0.015513107180595398, -0.00439506396651268, -0.003845088416710496, 0.03582427650690079, -0.0025033375713974237, -0.0010738748824223876, -0.016745811328291893, 0.028617698699235916, 0.033548515290021896, 0.01989394798874855, 0.024236857891082764, -0.009643538855016232, 0.00895132776349783, 0.006244120188057423, -0.0648212730884552, 0.023667918518185616, -0.019495688378810883, 0.05112877115607262, -0.020823216065764427, -0.00015527330106124282, -0.024502364918589592, 0.012450311332941055, -0.024066176265478134, 0.007320365868508816, 0.04786684736609459, -0.0035629889462143183, -0.0151338130235672, -0.0197991244494915, -0.03756902739405632, -0.026797089725732803, -0.01987498253583908, -0.012308076024055481, 0.01893623173236847, 0.03315025568008423, 0.026304008439183235, 0.026929842308163643, 0.001628591795451939, 0.029433181509375572, 0.02793497033417225, -0.04699447378516197, -0.008259117603302002, 0.03288475051522255, 0.0027854370418936014, 0.01795955002307892, 0.0025839374866336584, 0.036639757454395294, -0.03773970901966095, 0.0280297938734293, -0.02021634764969349, 0.01023144368082285, -0.007216060068458319, 0.03730352222919464, -0.009676727466285229, -0.004677163902670145, 0.013199415989220142, 0.009378033690154552, 0.021600767970085144, -0.019590511918067932, 0.03971203789114952, -0.028181511908769608, -0.014583837240934372, 0.04942195117473602, 0.01362612098455429, -0.014119203202426434, 0.01364508643746376, -0.04020511731505394, 0.02990729734301567, 0.01387266255915165, 0.0068841781467199326, -0.033700231462717056, 0.01706821098923683, 0.019438795745372772, 0.03948445990681648, 0.023800671100616455, -0.008666858077049255, -0.01134087797254324, 0.02228349633514881, -0.01365456823259592, 0.0055139800533652306, -0.04813235253095627, 0.004954522009938955, -0.014612284488976002, -0.0007562165264971554, -0.004134299699217081, -0.01995084062218666, -0.030798638239502907, 0.016831152141094208, -0.0015693270834162831, -0.01716303452849388, -0.009140974842011929, -0.003231107024475932, -0.004534928593784571, 0.007609576918184757, 0.004940298851579428, 0.0007259916164912283, 0.02730913646519184, -0.04817028343677521, 0.018225055187940598, 0.034041598439216614, -0.038631048053503036, -0.036374252289533615, 0.011947747319936752, 0.0023397670593112707, 0.03929481282830238, 0.014346779324114323, 0.014308849349617958, 0.02516612783074379, 0.02006462961435318, 0.03034348599612713, 0.015731200575828552, 0.021373191848397255, 0.020804252475500107, 0.012924428097903728, -0.016745811328291893, -0.009250021539628506, -0.018737101927399635, -0.02036806382238865, -0.0046866461634635925, 0.025867821648716927, -0.004053699783980846, 0.025545421987771988, 0.031652048230171204, -0.03271406888961792, -0.0020102558191865683, 0.041267137974500656, -0.007903529331088066, 0.021638697013258934, -0.0135881919413805, -0.01746646873652935, -0.0062393792904913425, -0.03517947718501091, 0.026569513604044914, 0.0297935102134943, 0.004921333864331245, 0.018452631309628487, 0.0029466368723660707, -0.016726845875382423, -0.011852923780679703, 0.013986450619995594, -0.00503038102760911, 0.002118117408826947, 0.02038702927529812, 0.017381127923727036, -0.014688143506646156, 0.0009784589055925608, -0.03990168124437332, 0.01599670574069023, 0.014982095919549465, 0.01595877669751644, -0.02495751716196537, 0.04077405855059624, 0.023497236892580986, -0.0035132067278027534, 0.006495402194559574, 0.01131243072450161, 0.00743415392935276, -0.031879622489213943, 0.013019251637160778, -0.04703240096569061, 0.017381127923727036, -0.008458246476948261, 0.003157618921250105, 0.00216434383764863, -0.014128684997558594, -0.012146876193583012, -0.011464147828519344, 0.004603675566613674, -0.015807058662176132, 0.023611024022102356, -0.024047212675213814, 0.0075669065117836, 0.0023670289665460587, 0.0041200765408575535, -0.009890079498291016, -0.002489113947376609, -0.009956455789506435, 0.015304495580494404, -0.01260202843695879, -0.04191193729639053, -0.019571548327803612, 0.002029220573604107, -0.04805649444460869, 0.03225891664624214, 0.0076475064270198345, -0.02768843062222004, -0.020861145108938217, 0.03574841842055321, -0.022055920213460922, 0.026569513604044914, -0.00897977501153946, -0.010326267220079899, 0.046046238392591476, 0.010525396093726158, -0.0010637999512255192, 0.008823316544294357, -0.015683788806200027, -0.0012024791212752461, 0.023421376943588257, 0.023648953065276146, 0.017229409888386726, -0.014166614972054958, 0.0164897870272398, -0.02510923333466053, 0.03591910004615784, 0.03810003772377968, 0.028371158987283707, -0.020747357979416847, -0.011881371028721333, 0.013607156462967396, 0.003231107024475932, 0.016736328601837158, 0.016831152141094208, -0.030836567282676697, -0.021202510222792625, 0.009250021539628506, -0.033984702080488205, -0.00503038102760911, -0.018376773223280907, -0.016214799135923386, -0.0601559579372406, -0.026493655517697334, 0.0075669065117836, -0.010487467050552368, -0.004572858102619648, -0.0016345181502401829, -0.02285243757069111, -0.03305543586611748, 0.041077494621276855, -0.009079339914023876, -0.03737938031554222, -0.0059122382663190365, 0.015987223014235497, 0.010259890928864479, 0.009335363283753395, -0.04703240096569061, -0.030779672786593437, -0.05021846666932106, -0.03753109648823738, -0.0006382799474522471, -0.012383935041725636, -0.002207014476880431, 0.013578709214925766, 0.03009694442152977, -0.020595639944076538, 0.0020944117568433285, 0.024388575926423073, -0.015152777545154095, -0.0007283621816895902, 0.016878563910722733, -0.01970430091023445, -0.029072850942611694, 0.007818188518285751, 0.04278431460261345, -0.002626607893034816, 0.007201836444437504, 0.01361663918942213, -0.010421090759336948, -0.0162053182721138, -0.009359068237245083, 0.01138828881084919, -0.016423411667346954, -0.024654081091284752, -0.00021542688773479313, -0.005191580858081579, 0.014602801762521267, -0.015351907350122929, -0.018699172884225845, -0.005618285853415728, -0.02782118320465088, -0.004603675566613674, -0.01740957424044609, 0.008505658246576786, 0.00496874563395977, 0.005988097283989191, 0.015143295750021935, -0.0065001435577869415, -0.01767507940530777, 0.016157906502485275, 0.003691000398248434, 0.0009203795343637466, -0.018329361453652382, 0.03737938031554222, -0.001263521728105843, -0.021050792187452316, -0.04775305837392807, 0.023080013692378998, 0.02281450852751732, 0.021600767970085144, -0.019097430631518364, -0.02510923333466053, 0.021505944430828094, -0.02482476457953453, -0.006452731788158417, 0.013901108875870705, 0.01016506738960743, -0.02975557930767536, -0.01727682165801525, -0.044187698513269424, 0.046691037714481354, -0.006983742583543062, 0.008439281955361366, -0.011577935889363289, 0.006832025479525328, 0.00808369368314743, 0.006542813964188099, -0.0011698835296556354, 0.018044890835881233, -0.014982095919549465, -0.02235935628414154, 0.008666858077049255, -0.005404933355748653, -0.02507130429148674, 0.01901208981871605, -0.02765050157904625, 0.0002432812616461888, -0.01622428186237812, -0.004911851603537798, 0.03464846685528755, -0.025583351030945778, -0.010496949777007103, -0.004205417353659868, 0.011805512011051178, -0.014413155615329742, 0.03768281638622284, 0.007078566122800112, 0.014109720475971699, -0.015304495580494404, 0.025583351030945778, -0.01607256568968296, -0.004233864601701498, -0.009690950624644756, 0.028295299038290977, -0.008050506003201008, -0.018831925466656685, 0.021430086344480515, -0.006106626242399216, -0.00425757048651576, 0.02275761403143406, -0.00024342942924704403, -0.0444532074034214, 0.008192741312086582, 0.0012872274965047836, 0.015276048332452774, 0.03481914848089218, -0.002548378659412265, -0.07187613099813461, -0.01643289439380169, -2.218719237134792e-05, 0.012421864084899426, 0.008259117603302002, 0.00993749126791954, -0.003472906770184636, -0.007287177722901106, -0.01502950768917799, -0.004482775926589966, 0.0019130619475618005, -0.01233652327209711, -0.004428252577781677, -0.010240926407277584, -0.043808408081531525, 0.0055092391557991505, -0.01397696789354086, 0.0036649240646511316, 0.011293466202914715, 0.00490236934274435, 0.028541840612888336, -0.0011248424416407943, -0.02522302232682705, 0.015238119289278984, 0.014669178985059261, -0.003612771164625883, 0.023269660770893097, 0.013095110654830933, -0.033965740352869034, -0.041077494621276855, 0.02019738219678402, 0.02983143925666809, 0.0038356061559170485, -0.03225891664624214, 0.03990168124437332, -0.05746297538280487, 0.0032880010548979044, -0.02546956203877926, -0.028693558648228645, 3.083612318732776e-05, -0.03823279216885567, 0.014479531906545162, 0.013398544862866402, -0.009088821709156036, -0.002908707596361637, 0.028883205726742744, 0.03288475051522255, -0.01007024385035038, -0.010022832080721855, 0.0006006468902342021, -0.0019877352751791477, -0.002626607893034816, 0.038706909865140915, 0.031538259238004684, -0.019590511918067932, 0.028276335448026657, 0.016480306163430214, -0.018699172884225845, -0.028048759326338768, -0.035501878708601, 0.014375225640833378, -0.013199415989220142, -0.006201449781656265, 0.056400954723358154, 0.041077494621276855, -0.044035982340574265, 0.02258693240582943, 0.03053313121199608, -0.015285531058907509, 0.051090843975543976, -0.0006495402194559574, -0.028181511908769608, -0.03491397202014923, 0.004809916485100985, 0.03195548430085182, 0.03937067091464996, 0.044301487505435944, 0.0027830665931105614, -0.003048571990802884, 0.0058932737447321415, -0.0253178458660841, 0.003155248239636421, 0.01901208981871605, -0.0099943857640028, 0.008415576070547104, -0.03254338726401329, 0.004236234817653894, 0.031234825029969215, 0.015797577798366547, -0.023117942735552788, 0.028333229944109917, -0.026455726474523544, 0.03527430072426796, -0.021069757640361786, -0.0324106365442276, 0.011587418615818024, 0.001325156888924539, -0.03218305855989456, -0.03313129395246506, 0.00831126980483532, 0.03311232849955559, -0.01015558559447527, 0.03810003772377968, -0.0039754705503582954, -0.0024914846289902925, 0.009558198042213917, 0.01372094452381134, 0.011549488641321659, -0.002975083887577057, 0.05757676437497139, -0.009795255959033966, -0.010629702359437943, 0.015901882201433182, -0.0034871301613748074, -0.0029821956995874643, 0.01748543418943882, -0.009667244739830494, 0.014232991263270378, 0.03986375406384468, -0.02243521437048912, -0.012061535380780697, -0.011786547489464283, 0.026038503274321556, 0.02516612783074379, 0.008524622768163681, 0.01906898431479931, -0.00048241400509141386, 0.02795393578708172, 0.015143295750021935, 0.020728392526507378, 0.03491397202014923, -0.010316784493625164, 0.008567293174564838, -0.004240976180881262, 0.02806772291660309, 0.01243134681135416, -0.02964179217815399, 0.015769129619002342, -0.005367003846913576, -0.016404446214437485, 0.02296622470021248, 0.006604449357837439, -0.013066663406789303, 0.021657662466168404, 0.007235024590045214, 0.012583063915371895, 0.02537474036216736, 0.021316299214959145, -0.009823703207075596, 0.033984702080488205, -0.018775030970573425, 0.021202510222792625, 0.0008865987183526158, -0.03485707938671112, 0.07525184005498886, 0.024578223004937172, -0.007007448468357325, 0.014887272380292416, -0.03280889242887497, -0.0006933960248716176, 0.007026413455605507, -0.04479457065463066, 0.006120849866420031, 0.016840634867548943, 0.010259890928864479, -0.01394852064549923, -0.024407541379332542, -0.010250408202409744, -0.006941072177141905, -0.011056407354772091, 0.0184431504458189, -0.03796728700399399, 0.02266279049217701, -0.0076664709486067295, 0.024009281769394875, 0.0005310109700076282, 0.005694144405424595, 0.044187698513269424, -0.0011657350696623325, -0.017950067296624184, -0.0409257747232914, -0.014242473058402538, 0.021183544769883156, -0.007718624081462622, 0.013673532754182816, -0.038839660584926605, -0.010259890928864479, -0.0037241887766867876, 0.0228903666138649, 0.013607156462967396, 0.008662116713821888, -0.061369698494672775, 0.020481852814555168, -0.018926749005913734, -0.01141673605889082, -0.00475776381790638, -0.021942133083939552, 0.03929481282830238, -0.006063955835998058, 0.014498496428132057, -0.0247489046305418, 0.014726072549819946, 0.023971352726221085, 0.012175323441624641, -0.023554129526019096, 0.03053313121199608, -0.043732546269893646, 0.02787807770073414, 0.008259117603302002, 0.025621280074119568, 0.004712722729891539, 0.009757326915860176, 0.00086941197514534, 0.022036956623196602]\n"
     ]
    }
   ],
   "source": [
    "embedded_query = embeddings_model.embed_query('인공지능이란 무엇인가?')\n",
    "\n",
    "print(f'임베딩 벡터의 차원: {len(embedded_query)}')\n",
    "print(embedded_query)"
   ]
  },
  {
   "cell_type": "code",
   "execution_count": null,
   "id": "90d02a1d",
   "metadata": {},
   "outputs": [
    {
     "name": "stdout",
     "output_type": "stream",
     "text": [
      "질문: 인공지능이란 무엇인가요?\n",
      "가장 유사한 문서: 인공지능은 컴퓨터 과학의 한 분야입니다.\n",
      "유사도: 0.7117\n",
      "--------------------------------------------------\n",
      "질문: 딥러닝과 머신러닝의 관계는 어떻게 되나요?\n",
      "가장 유사한 문서: 딥러닝은 머신러닝의 한 종류입니다.\n",
      "유사도: 0.6817\n",
      "--------------------------------------------------\n",
      "질문: 컴퓨타가 이미지를 이해하는 방법은?\n",
      "가장 유사한 문서: 컴퓨터 비전은 컴퓨터가 디지털 이미지나 비디오를 이해하는 방법을 연구합니다.\n",
      "유사도: 0.5780\n",
      "--------------------------------------------------\n"
     ]
    }
   ],
   "source": [
    "from langchain_community.utils.math import cosine_similarity\n",
    "import numpy as np\n",
    "\n",
    "def find_most_similar(query, document_embeddings):\n",
    "    query_embedding = embeddings_model.embed_query(query)\n",
    "    similarities = cosine_similarity([query_embedding], document_embeddings)[0]\n",
    "    most_similar_idx = np.argmax(similarities)\n",
    "    return documents[most_similar_idx], similarities[most_similar_idx]\n",
    "\n",
    "queries = [\n",
    "    \"인공지능이란 무엇인가요?\",\n",
    "    \"딥러닝과 머신러닝의 관계는 어떻게 되나요?\",\n",
    "    \"컴퓨타가 이미지를 이해하는 방법은?\"\n",
    "]\n",
    "\n",
    "for query in queries:\n",
    "    most_similar_doc, similarity = find_most_similar(query, document_embeddings)\n",
    "    print(f'질문: {query}')\n",
    "    print(f'가장 유사한 문서: {most_similar_doc}')\n",
    "    print(f'유사도: {similarity:.4f}')\n",
    "    print('-' * 50)"
   ]
  },
  {
   "cell_type": "code",
   "execution_count": 40,
   "id": "a1076d75",
   "metadata": {},
   "outputs": [
    {
     "data": {
      "text/plain": [
       "HuggingFaceEmbeddings(client=SentenceTransformer(\n",
       "  (0): Transformer({'max_seq_length': 8192, 'do_lower_case': False}) with Transformer model: XLMRobertaModel \n",
       "  (1): Pooling({'word_embedding_dimension': 1024, 'pooling_mode_cls_token': True, 'pooling_mode_mean_tokens': False, 'pooling_mode_max_tokens': False, 'pooling_mode_mean_sqrt_len_tokens': False, 'pooling_mode_weightedmean_tokens': False, 'pooling_mode_lasttoken': False, 'include_prompt': True})\n",
       "  (2): Normalize()\n",
       "), model_name='BAAI/bge-m3', cache_folder=None, model_kwargs={}, encode_kwargs={}, multi_process=False, show_progress=False)"
      ]
     },
     "execution_count": 40,
     "metadata": {},
     "output_type": "execute_result"
    }
   ],
   "source": [
    "from langchain_huggingface.embeddings import HuggingFaceEmbeddings\n",
    "\n",
    "embeddings_model = HuggingFaceEmbeddings(model_name='BAAI/bge-m3')\n",
    "embeddings_model"
   ]
  },
  {
   "cell_type": "code",
   "execution_count": 41,
   "id": "5f5179ae",
   "metadata": {},
   "outputs": [
    {
     "name": "stdout",
     "output_type": "stream",
     "text": [
      "임베딩 벡터의 개수: 5\n",
      "임베딩 벡터의 차원: 1024\n",
      "[-0.03941445052623749, 0.008764848113059998, -0.01268161553889513, 0.002453206107020378, -0.008944757282733917, -0.0073837218806147575, -0.005377359688282013, -0.009055864997208118, 0.03291522338986397, 0.0060455072671175, -0.027012888342142105, -0.027740875259041786, 0.00044411991257220507, 0.030136585235595703, 0.017242854461073875, 0.01709028333425522, 0.025524919852614403, -0.021856073290109634, -0.011341292411088943, -0.05702261999249458, -0.0003017137059941888, 0.013543128035962582, -0.00745010282844305, 0.01857445389032364, 0.0028946553356945515, 0.008630653843283653, -0.0007444894872605801, -0.028904108330607414, 0.02072780393064022, -0.02050059288740158, 0.00806991383433342, -0.026754198595881462, 0.003963088616728783, -0.01630389876663685, -0.07406219840049744, -0.033650368452072144, -0.023871466517448425, -0.034550052136182785, -0.034785956144332886, 0.005482987500727177, -0.0500335693359375, -0.0028035668656229973, -0.023146886378526688, -0.0749114379286766, -0.011434338986873627, -0.028992658481001854, -0.034183014184236526, -0.02552468702197075, -0.06156915798783302, 0.01355795469135046, 0.024401184171438217, -0.03127624839544296, 0.05056966468691826, 0.01297259982675314, -0.06420670449733734, 0.02719489298760891, 0.006821519695222378, 0.01040553580969572, -0.06427163630723953, -0.01602821797132492, -0.020655397325754166, 0.03011762723326683, -0.006331697106361389, -0.013117467984557152, -0.0005491788615472615, 0.04695945605635643, 0.007765491958707571, 0.02975654974579811, -0.034744080156087875, -0.03635729104280472, 0.02141391858458519, 0.017580494284629822, -0.033522170037031174, 0.013690433464944363, -0.052323490381240845, 0.0484783798456192, -0.013382785953581333, -0.01721262000501156, -0.03435642272233963, 0.021087003871798515, -0.02280254475772381, -0.006211874540895224, -0.012333830818533897, -0.04589996486902237, -0.043625324964523315, -0.033220961689949036, -0.03090287744998932, 0.06267786771059036, -0.013041095808148384, 0.0030605620704591274, -0.0340210497379303, -0.011811473406851292, 0.06983616203069687, -0.06787191331386566, -0.041217122226953506, -0.0454251766204834, -0.05954749882221222, 0.026572149246931076, 0.021793361753225327, 0.016649406403303146, -0.004795452114194632, 0.05578603595495224, 0.005842223763465881, -0.004925691522657871, 0.005203359294682741, 0.012360346503555775, 0.015873588621616364, 0.01367831788957119, -0.0043206121772527695, -0.01677749492228031, 0.024673426523804665, 0.07882759720087051, -0.0033149532973766327, 0.02773304283618927, -0.01484991516917944, -0.036296527832746506, -0.007080220151692629, -0.005244876723736525, 0.031237956136465073, 0.028104552999138832, 0.021445205435156822, 0.026932429522275925, -0.018261343240737915, -0.03545693680644035, 0.025494327768683434, -0.014402574859559536, 0.043160952627658844, -0.0065125953406095505, -0.0023869096767157316, -0.02542489394545555, 0.0072542778216302395, 0.0016669394681230187, -0.06067398190498352, 0.002136952942237258, -0.0793343335390091, -0.03168250620365143, -0.026456240564584732, -0.03457324951887131, 0.0011898735538125038, -0.026784759014844894, 0.03188098967075348, 0.008707314729690552, -0.034499384462833405, -0.02601381205022335, 0.028248101472854614, 0.02884906902909279, 0.011804240755736828, 0.006611349061131477, -0.04028214141726494, 0.006594954524189234, -0.04195798933506012, 0.0018759315134957433, -0.016849229112267494, -0.0003243584942538291, 0.008593757636845112, 0.05727248638868332, 0.03451273962855339, 0.018291309475898743, -0.03627154603600502, 0.019243353977799416, -0.011026408523321152, -0.051076490432024, -0.011925905011594296, 0.03441395238041878, 0.02501545660197735, 0.005875391885638237, 0.002253934508189559, 0.05663304403424263, -0.02504449151456356, -0.051671940833330154, -0.04070146754384041, -0.0038236903492361307, -0.08939449489116669, 0.013491159304976463, 0.03287690505385399, 0.020798636600375175, 0.04125238209962845, 0.03118397481739521, 0.010359593667089939, -0.03293048217892647, -0.02438637614250183, -0.015635890886187553, -0.017844397574663162, 0.016319524496793747, -0.0033740142825990915, -0.008289546705782413, 0.007997727952897549, 0.017579950392246246, 0.005814952775835991, -0.0015096361748874187, 0.033619582653045654, -0.023578904569149017, 0.018168527632951736, -0.01330758910626173, -0.010974681936204433, -0.06073543801903725, 0.035313572734594345, 0.03325321152806282, 0.0035984297282993793, -0.00952876266092062, -0.03346243128180504, 0.026455912739038467, 0.004845170769840479, -0.005232802592217922, -0.028605099767446518, 0.035237569361925125, -0.0023234442342072725, -0.03342469781637192, 0.020695991814136505, -0.016646746546030045, 0.050313934683799744, 0.005382917821407318, 0.006805296055972576, -0.04224148765206337, -0.050436802208423615, -0.023666486144065857, -0.0003812862851191312, 0.017486944794654846, -0.021624553948640823, -0.0511527955532074, -0.005384465213865042, -0.007931957952678204, 0.012596579268574715, 0.040384430438280106, 0.023643091320991516, 0.011450348421931267, -0.012604239396750927, -0.024017591029405594, 0.05937512218952179, 0.02274705469608307, -0.014662839472293854, 0.028443580493330956, 0.0028610816225409508, -0.027433879673480988, 0.0026598251424729824, -0.012619069777429104, -0.01932603120803833, 0.0012929788790643215, 0.024065805599093437, 0.005560114048421383, 0.00046924938214942813, -0.012332884594798088, 0.008361480198800564, 0.007104378193616867, -0.014163916930556297, -0.025789659470319748, -0.009067066945135593, 0.011334900744259357, -0.03867325931787491, 0.012458669021725655, -0.014846699312329292, -0.05338018015027046, 0.0007011149427853525, -0.037628211081027985, 0.024404335767030716, -0.022411521524190903, -0.0031276154331862926, 0.005926228128373623, 0.02924339845776558, 0.01287229172885418, -0.025251511484384537, -0.017893923446536064, -0.032658834010362625, 0.01578877680003643, 0.036837607622146606, -0.019260186702013016, 0.004153445363044739, -0.008615180850028992, 0.02560017630457878, 0.03141622245311737, 0.013882146216928959, 0.016615988686680794, 0.02648591250181198, 0.016514712944626808, 0.037105534225702286, 0.01717045158147812, 0.016321688890457153, -0.022120626643300056, 0.027622010558843613, 0.02409966289997101, -0.02487592212855816, -0.034905221313238144, 0.010859489440917969, 0.037536170333623886, 0.032445091754198074, -0.0029510187450796366, -0.021300766617059708, -0.0008491594926454127, -0.049433041363954544, -0.0502716526389122, -0.055717527866363525, -0.035786330699920654, 0.0516539067029953, -0.0265003964304924, -0.02994459494948387, 0.04084897041320801, -0.002776476787403226, -0.15416252613067627, 0.052873287349939346, -0.04403994232416153, 0.024527763947844505, 0.0007717610569670796, -0.023125799372792244, 0.02821776270866394, 0.020606141537427902, -0.06491450220346451, 0.05870119482278824, -0.015259644016623497, -0.05291959270834923, -0.026743700727820396, -0.01604013890028, 0.03513459488749504, 0.03692731261253357, 0.01824101246893406, -0.00014413133612833917, -0.02538212761282921, -0.0042935931123793125, -0.04096035659313202, -0.05058600381016731, 0.01501425914466381, -0.03581550344824791, 0.029789935797452927, -0.0450902096927166, -0.020970871672034264, -0.023698925971984863, -0.02904968522489071, -0.0343937985599041, -0.018698493018746376, -0.009413955733180046, -0.021368445828557014, 0.041909877210855484, 0.02259029820561409, 0.008137853816151619, 0.0034019192680716515, -0.0349729098379612, 0.05352339893579483, 0.006330618169158697, -0.009400810115039349, 0.034035295248031616, 0.013987434096634388, 0.005095578730106354, -0.0004018498002551496, -0.02248120680451393, 0.038704436272382736, 0.0006443642778322101, -0.013815921731293201, 0.009313303977251053, -0.02437048777937889, -0.05039580166339874, 0.04627165198326111, -0.021217262372374535, -0.03346460312604904, 0.006026161834597588, 0.010226252488791943, 0.06932579725980759, 0.02263225056231022, 0.01256889570504427, -0.04025674983859062, -0.034716781228780746, 0.019841725006699562, 0.01483395416289568, 0.013841369189321995, -0.04672090709209442, 0.055473294109106064, 0.011165871284902096, 0.021457156166434288, -0.022262319922447205, 0.0364818274974823, -0.0014091739431023598, 0.05106925591826439, -0.01689680479466915, -0.0002580969885457307, 0.049261536449193954, 0.007794075645506382, -0.07784523814916611, -0.051600441336631775, -0.08172133564949036, 0.0001815612631617114, -0.0027508637867867947, -0.00911609549075365, -0.004651397932320833, -0.04209818318486214, -0.0022109639830887318, -0.010076198726892471, -0.027880771085619926, 0.05060306191444397, 0.20528994500637054, 0.02644439786672592, -0.00022551258734893054, -0.026649249717593193, 0.03717314079403877, -0.00884224008768797, -0.014338335022330284, -0.019308755174279213, 0.017481058835983276, -0.010157187469303608, 0.00998526532202959, -0.02210446074604988, -0.0012158019235357642, 0.006270232610404491, 0.013725214637815952, 0.02520187385380268, -0.0338592529296875, -0.0011371580185368657, 0.08596235513687134, 0.02185939997434616, -0.007644908502697945, -0.0030849771574139595, 0.04453148692846298, -0.001303709577769041, -0.028895698487758636, -0.02633531019091606, 0.0028093711007386446, 0.010797255672514439, -0.01945134624838829, -0.036453668028116226, 0.005088219419121742, 0.02991410158574581, -0.010681968182325363, 0.00668497197329998, 0.02388142980635166, 0.017712926492094994, 0.0014703982742503285, -0.01895172894001007, 0.009166152216494083, 0.007664768490940332, -0.020509911701083183, -0.015714965760707855, -0.001461324281990528, 0.007429524324834347, 0.009566866792738438, 0.010711194016039371, 0.006898301653563976, -0.009391158819198608, -0.019545521587133408, -0.035453129559755325, -0.06176724657416344, -0.022272849455475807, -0.0431184396147728, 0.018352795392274857, -0.002340212929993868, -0.004222696181386709, -0.043274860829114914, 0.025858143344521523, 0.017618432641029358, 0.008789444342255592, 0.03943892940878868, 0.00882461667060852, 0.033270299434661865, 0.02598056010901928, -0.009331374429166317, -0.005429025739431381, -0.03740306571125984, -0.05824077129364014, 0.058875735849142075, -0.003742871107533574, 0.013187007047235966, 0.014792914502322674, -0.04668256267905235, -0.022107357159256935, 0.006471659522503614, 0.003505814354866743, 0.03154466673731804, 0.026691237464547157, 0.02857639454305172, 0.028033770620822906, -0.029319938272237778, 0.010856660082936287, -0.027783192694187164, 0.03786864131689072, 0.007742194924503565, -0.0514553040266037, -0.014120903797447681, 0.05561647564172745, 0.017498530447483063, -0.024795711040496826, 0.013818337582051754, 0.008258553221821785, -0.009095114655792713, 0.044248390942811966, -0.01329843606799841, 0.022851206362247467, 0.007554680574685335, -0.005556196440011263, -0.02685144916176796, 0.04283802583813667, -0.030624551698565483, -0.043705523014068604, -0.009680411778390408, -0.006718836259096861, 0.016627758741378784, 0.020827841013669968, 0.020590966567397118, 0.05548373982310295, 0.009113775566220284, 0.04802144318819046, 0.002895117737352848, 0.026987796649336815, -0.051990218460559845, -0.04606880247592926, 0.014079599641263485, -0.010256743058562279, 0.02094566822052002, 0.020687086507678032, 0.006968574598431587, 0.014875837601721287, -0.03136388584971428, 0.0012487262720242143, 0.01880241185426712, 0.03199198469519615, 0.00028788161580450833, -0.027227697893977165, 0.04708467423915863, 0.033834058791399, -0.015769002959132195, 0.019647110253572464, 0.060615766793489456, 0.0018481869483366609, 0.004004715010523796, 0.04876017943024635, 0.022826777771115303, 0.014284435659646988, -0.014066212810575962, 0.021967392414808273, 0.05986209958791733, 0.0002834529441315681, 0.01490861363708973, 0.007023236248642206, 0.024416398257017136, 0.008015756495296955, 0.01087257917970419, 0.001623623538762331, -0.013646877370774746, 0.04847606271505356, -0.023516252636909485, -0.006223450414836407, 0.0007701823487877846, -0.02226422168314457, 0.058263808488845825, -0.0425332710146904, -0.008776901289820671, -0.029511017724871635, -0.021039290353655815, -0.005618670489639044, 0.03724319487810135, -0.022321170195937157, 0.02959318459033966, 0.022220907732844353, 0.06000766530632973, 0.05433725193142891, -0.013108964078128338, 0.04675421863794327, -0.00401958217844367, -0.020036820322275162, -0.009979183785617352, -0.052365098148584366, 0.012971536256372929, -0.02396402135491371, -0.04701244458556175, 0.017680251970887184, -0.06316707283258438, -0.012216208502650261, -0.051538754254579544, 0.01671617664396763, 0.002896486083045602, 0.0023543699644505978, 0.04698430374264717, 0.00523611344397068, 0.028605902567505836, 0.01803353615105152, 0.002688364591449499, 0.012599187903106213, 0.04312582686543465, -0.012468741275370121, 0.016190819442272186, -0.03503527119755745, -0.013990488834679127, 0.0850161612033844, -0.0006753899506293237, -0.03510754927992821, 0.018908224999904633, -0.04388415068387985, 0.018178407102823257, -0.014595218934118748, 0.05074280872941017, -0.01459877286106348, -0.01224845927208662, -0.05382172390818596, 0.00917732436209917, -0.013291004113852978, -0.026121504604816437, 0.019020941108465195, -0.009157782420516014, 0.015958424657583237, -0.012059297412633896, 0.023945920169353485, 0.010822105221450329, 0.0012781597906723619, -0.04741375893354416, 0.028183521702885628, -0.03028205968439579, 0.03450252115726471, -0.03545202687382698, 0.010610704310238361, 0.02175796777009964, -0.07106901705265045, -0.011429186910390854, -0.0007577657816000283, 0.0009730145684443414, -0.06687965244054794, 0.0017512959893792868, 0.030838053673505783, -0.013645228929817677, -0.020122958347201347, -0.019696658477187157, 0.04643265902996063, -0.004844081588089466, -0.08160027861595154, 0.040443047881126404, 0.004950438626110554, 0.03106473572552204, 0.005250941030681133, -0.006103127263486385, 0.014033702202141285, -0.021181907504796982, -0.019575361162424088, 0.025881540030241013, -0.026794644072651863, 0.06484147161245346, 0.017436444759368896, 0.02530406229197979, 0.012567217461764812, 0.006157862953841686, -0.015259120613336563, -0.0029800529591739178, 0.004574266728013754, -0.011685431934893131, -0.04778236150741577, 0.04852068051695824, 0.027301853522658348, 0.019908662885427475, -0.046112310141325, 0.049470845609903336, -0.015534117817878723, -0.02295883186161518, 0.007057528011500835, 0.011417149566113949, 0.028111224994063377, -0.0009655554313212633, 0.005214741453528404, 0.0058796824887394905, 0.0409088134765625, 0.04670417308807373, 0.013859489932656288, -0.04856492578983307, -0.03641865774989128, 0.030556630343198776, -0.0033170697279274464, -0.03998246416449547, -0.03232389688491821, 0.03208169713616371, -0.002212338149547577, -0.03743819147348404, 0.04703685641288757, 0.04756614938378334, -0.003721168963238597, -0.0048499442636966705, 0.054563842713832855, 0.008762187324464321, 0.014281686395406723, 0.013041425496339798, -0.005775482393801212, 0.011362412013113499, 0.005727213341742754, 0.028392244130373, -0.03743183985352516, 0.017423391342163086, 0.009146100841462612, -0.04311313480138779, 0.010060444474220276, -0.013028775341808796, 0.02631356380879879, -0.008787056431174278, 0.04881313070654869, -0.02394179254770279, -0.008417542092502117, -0.030199937522411346, -0.011565571650862694, -0.008227541111409664, -0.0007779707084409893, 0.036086179316043854, 0.019429702311754227, 0.01580188050866127, -0.06475582718849182, 0.0322716161608696, -0.01971476711332798, 0.012444691732525826, 0.0005196271231397986, 0.03724118322134018, 0.04861580580472946, -0.030769038945436478, -0.011096972040832043, 0.030283836647868156, -0.04953470081090927, 0.054928380995988846, -0.0020628164056688547, 0.04958369582891464, 0.0007331087836064398, -0.006119831465184689, -0.023130185902118683, 0.009980812668800354, 0.023883339017629623, -0.019458536058664322, -0.03200145438313484, 0.029113808646798134, -0.05370786041021347, -0.012846654281020164, 0.03300855681300163, -0.002457789843901992, 0.02562246471643448, 0.0028969887644052505, -0.016086380928754807, -0.01989271678030491, -0.03626823425292969, 0.05153731256723404, 0.02597828023135662, -0.023754622787237167, -0.0021327033173292875, 0.05663057416677475, -0.02122490480542183, 0.026157844811677933, -0.03065486066043377, -0.009088555350899696, -0.0013654757058247924, 0.007371808867901564, 0.014015519991517067, -0.038815684616565704, -0.00517585314810276, -0.020652448758482933, -0.0854281410574913, 0.03286979719996452, -0.021121669560670853, -0.0017047026194632053, -0.02385287545621395, 0.010193399153649807, 0.00315288407728076, -0.04626765102148056, 0.00437856325879693, 0.0127662792801857, 0.03188915550708771, -0.006445439998060465, 0.06173041835427284, 0.027293331921100616, -0.040185313671827316, 0.012747325003147125, -0.0434139110147953, -0.03434227406978607, 0.024028999730944633, 0.045110832899808884, -0.06422783434391022, -0.002670811954885721, 0.01576581783592701, -0.04633603245019913, 0.015471864491701126, -0.012263933196663857, 0.004063956439495087, 0.00287000578828156, -0.059097934514284134, -0.0497787669301033, -0.03188014775514603, 0.0042823865078389645, -0.04063795879483223, -0.010036937892436981, -0.02049512416124344, 0.04349435493350029, 0.00918308924883604, -0.021456951275467873, -0.036665648221969604, 0.03871417045593262, -0.0285770446062088, -0.12108999490737915, 0.011257986538112164, -0.021855873987078667, 0.038476478308439255, -0.020778898149728775, 0.026198500767350197, -0.005205582827329636, 0.007620614487677813, 0.023885339498519897, -0.06817088276147842, -0.010705300606787205, 0.0383872464299202, 0.020878417417407036, -0.013643725775182247, -0.0012990288669243455, 0.01889580488204956, -0.01062721200287342, 0.019094279035925865, 0.007302974816411734, 0.025121130049228668, -0.003089906182140112, 0.01935056410729885, 0.04545747861266136, -0.006982765160501003, 0.016584398224949837, -0.004083536099642515, 0.006178656592965126, 0.010033611208200455, -0.06160513684153557, 0.008099166676402092, 0.05615949630737305, -0.05707838386297226, 0.005859646014869213, 0.0026495291385799646, -0.052220381796360016, -0.0299502145498991, -0.04529864713549614, 0.004038611892610788, -0.027648000046610832, 0.03871120885014534, -0.03272446617484093, 0.027157515287399292, 0.03960347920656204, -0.011242413893342018, 0.015820488333702087, 0.08895587176084518, -0.03150158375501633, -0.016731765121221542, -0.014683903194963932, -0.02074112929403782, 0.029698267579078674, -0.026172680780291557, -0.012390865944325924, 0.05219876393675804, -0.01278004888445139, 0.016312677413225174, -0.05087518319487572, 0.009121483191847801, -0.00313637126237154, 0.07734204083681107, -0.04193482547998428, 0.0007514443132095039, -0.030584556981921196, 0.013006380759179592, -0.007410403341054916, 0.030986057594418526, -0.05732092633843422, -0.010988319292664528, -0.015135087072849274, 0.006888857111334801, 0.008642567321658134, 0.06573335081338882, 0.03371092304587364, -0.03401574864983559, 0.029345404356718063, 0.011673970147967339, 0.051056768745183945, 0.007065086159855127, 0.019810937345027924, -0.03461391478776932, 0.016095582395792007, 0.012484722770750523, -0.04676222428679466, -0.02751578949391842, 0.01037660799920559, -0.02294725365936756, -0.0341225266456604, -0.003230020636692643, -0.008177163079380989, -0.02337176911532879, -0.048484642058610916, -0.011113783344626427, -0.01951933465898037, -0.0038489040452986956, -0.04734348878264427, 0.013848778791725636, 0.0020971072372049093, 0.012429009191691875, -0.016072377562522888, -0.012233719229698181, -0.007150484714657068, -0.005227204877883196, 0.009924722835421562, -0.0023524079006165266, -0.020415889099240303, 0.03459920361638069, 0.0664309561252594, -0.010721628554165363, 0.05480988696217537, -0.03403067961335182, 0.009117666631937027, -0.014219526201486588, -0.05166011303663254, 0.039497654885053635, -0.002909444272518158, -0.012116190046072006, 0.01622280664741993, 0.06202355772256851, 0.01534039806574583, 0.032064445316791534, 0.046687863767147064, -0.026615308597683907, 0.0022645804565399885, -0.018055344000458717, 0.06148137152194977, 0.0034600934013724327, 0.000789506419096142, 0.0458180233836174, 0.04978005960583687, 4.842199814447667e-07, 0.015820657834410667, -0.028666410595178604, 0.0513312965631485, -0.019402440637350082, 0.0501457042992115, 0.001262991689145565, 0.0666620060801506, 0.032210998237133026, -0.07578133791685104, -0.02677566558122635, -0.022792527452111244, -0.013899172656238079, -0.0027472928632050753, -0.01722531020641327, -0.05203042924404144, -0.006385997869074345, 0.02829090878367424, -0.05922159552574158, -0.006042583379894495, -0.010329843498766422, -0.020534338429570198, -0.025234172120690346, 0.0064850132912397385, 0.05987747386097908, -0.06461494415998459, 0.039172276854515076, -0.03935927152633667, 0.01159712579101324, -0.0050013186410069466, -0.02177659049630165, 0.024796174839138985, -0.02105584554374218, -0.01434142142534256, 0.00503738084807992, -0.02690310776233673, -0.015666238963603973, -0.020005540922284126, -0.017518416047096252, -0.002119163516908884, 0.03180164471268654, 0.03315679728984833, 0.06110072135925293, -0.02178020402789116, -0.007200476247817278, 0.023457041010260582, 0.0045004175044596195, -0.03394908830523491, 0.030627720057964325, 0.05058339238166809, 0.019436292350292206, 0.0303652323782444, -0.008498151786625385, 0.03861614689230919, 0.024106768891215324, -0.029866786673665047, -0.022483771666884422, -0.029365161433815956, 0.05913860723376274, 0.02399420365691185, -0.05173459276556969, -0.02144564501941204, -0.00802871398627758, -0.045875344425439835, 0.01853395439684391, -0.012980912812054157, 0.062045540660619736, 0.025514403358101845, 0.03043605387210846, -0.013861718587577343, 0.01149920467287302, -0.0768980160355568, -0.01568572036921978, 0.031369224190711975, -0.010092422366142273, -0.004928586073219776, 0.005839566234499216, -0.05361056327819824, -0.0019884761422872543, -0.023305809125304222, -0.012968521565198898, 0.008794065564870834, 0.018897265195846558, 0.0008403917890973389, -0.0075892736203968525, 0.04887888953089714, -0.05043143406510353, 0.012651998549699783, -0.005049560219049454, -0.015551907941699028, 0.0036741825751960278, 0.002968963235616684, 0.007681547664105892, -0.026818852871656418, -0.010751387104392052, 0.013961038552224636, -0.031508371233940125, 0.010267532430589199, 0.05015924572944641, -0.03511187434196472, -0.000825826427899301, -0.028183406218886375, -0.02412126399576664, 0.0028528431430459023, 0.02042170614004135, -0.013471641577780247, -0.014262369833886623, 0.022602247074246407, 0.038974639028310776, -0.008240492083132267, -0.01573222689330578, 0.05449069291353226, 0.008341755717992783, 0.03494136035442352, -0.017748065292835236]\n"
     ]
    }
   ],
   "source": [
    "document_embeddings = embeddings_model.embed_documents(documents)\n",
    "\n",
    "print(f'임베딩 벡터의 개수: {len(document_embeddings)}')\n",
    "print(f'임베딩 벡터의 차원: {len(document_embeddings[0])}')\n",
    "print(document_embeddings[0])"
   ]
  },
  {
   "cell_type": "code",
   "execution_count": 42,
   "id": "3a67ef39",
   "metadata": {},
   "outputs": [
    {
     "name": "stdout",
     "output_type": "stream",
     "text": [
      "임베딩 벡터의 차원: 1024\n",
      "[-0.03209393844008446, -0.00270690955221653, 0.0023322273045778275, -0.012644656002521515, -0.003160016145557165, -0.04030741751194, -0.006791913881897926, 0.013473160564899445, 0.019866855815052986, 0.005062516778707504, -0.023701772093772888, 0.019582252949476242, -0.010853147134184837, 0.0016180346719920635, 0.013190335594117641, 0.021335486322641373, 0.012835104018449783, -0.027568478137254715, -0.015128380618989468, -0.0537126325070858, -0.006451693829149008, -0.009407563135027885, -0.01484956406056881, 0.004969089291989803, 0.051952239125967026, 0.049701280891895294, -0.008684919215738773, -0.022126367315649986, 0.016591845080256462, -0.015493226237595081, -0.004937972407788038, -0.007206615060567856, -0.0042657931335270405, 0.014605388976633549, -0.03576734662055969, -0.009836300276219845, -0.01238698698580265, -0.04201124235987663, -0.03966822475194931, -0.0016756352270022035, -0.012928660027682781, 0.018846914172172546, -0.018244437873363495, -0.044364165514707565, 0.001924900570884347, -0.03941533342003822, -0.025432119145989418, -0.02502346970140934, -0.02213870920240879, -0.00475177401676774, 0.028588898479938507, -0.04760409891605377, 0.020065199583768845, 0.028310826048254967, -0.002259061671793461, 0.04711286351084709, -0.005550785455852747, 0.02822229079902172, -0.07155055552721024, -0.020935075357556343, -0.022336624562740326, -0.005194460973143578, -0.037383463233709335, -0.015215243212878704, 0.0170111246407032, 0.06360720098018646, 0.020470859482884407, -0.009863336570560932, -0.02077927626669407, -0.037763822823762894, 0.0037415060214698315, 0.0411442369222641, -0.05599002540111542, 0.05012543499469757, -0.04450122267007828, 0.011219117790460587, 0.019343947991728783, 0.006278637330979109, -0.03861634060740471, 0.02005178853869438, 0.04831872880458832, -0.012170003727078438, -0.03038211725652218, -0.010146782733500004, -0.009101911447942257, -0.005700445268303156, -0.022789007052779198, 0.06518181413412094, -0.00838055182248354, 0.002518243854865432, -0.034156035631895065, 0.0007667450699955225, 0.05050620809197426, -0.10415389388799667, -0.018992168828845024, -0.08257690072059631, -0.03568312153220177, 0.00920856837183237, 0.013808594085276127, 0.030261503532528877, -0.0038137491792440414, 0.047467175871133804, 0.017094047740101814, -0.029844442382454872, 0.02903619594871998, 0.004671121947467327, 0.004027704708278179, 0.009857216849923134, -0.03808027505874634, -0.006673674564808607, 0.04236765205860138, 0.040928930044174194, 0.016835620626807213, 0.03388001024723053, -0.047669123858213425, -0.049159713089466095, 0.011912420392036438, 0.0027409985195845366, 0.02364497072994709, 0.03939943015575409, -0.012293633073568344, 0.02143191173672676, -0.03680719435214996, -0.04467260465025902, -0.007004174403846264, -0.01320477295666933, 0.03755096346139908, 0.033914342522621155, -0.004329239949584007, -0.016310375183820724, 0.02686695195734501, -0.014690646901726723, -0.07696744799613953, -0.0046110874973237514, -0.05673125013709068, -0.017881866544485092, 0.007229062728583813, -0.03228817880153656, 0.02581864595413208, -0.034638673067092896, 0.03357452154159546, 0.003515743650496006, -0.03451954945921898, -0.0298058670014143, 0.01965685375034809, 0.006469708867371082, 0.001422607572749257, -0.009422297589480877, -0.011766430921852589, 0.02484077215194702, -0.015639301389455795, -0.01821906678378582, -0.024173321202397346, -0.009602389298379421, 0.010923984460532665, 0.046292744576931, 0.01075164694339037, 0.02543158084154129, -0.05257629230618477, 0.033962465822696686, 0.0427495576441288, -0.0026505745481699705, 0.004485497251152992, 0.026858879253268242, -0.011441204696893692, 0.006766167469322681, 0.005163870751857758, 0.021583938971161842, -0.0073088351637125015, -0.027444100007414818, -0.03575291112065315, 0.010582155548036098, -0.030721748247742653, 0.03777700290083885, 0.015076140873134136, 0.0030650347471237183, 0.06478934735059738, 0.03438550978899002, -0.010170143097639084, -0.00948308501392603, -0.053690794855356216, -0.016947636380791664, -0.014294869266450405, 0.004577810876071453, -0.004375004675239325, 0.015344352461397648, 0.014069695957005024, 0.012371165677905083, 0.02172454074025154, -0.000897725869435817, -0.01842278428375721, -0.023710258305072784, 0.01191963255405426, -0.006369784940034151, -0.0015396985691040754, -0.0307435505092144, 0.03684230521321297, 0.04385537654161453, -0.006110628135502338, -0.04101226478815079, -0.025938408449292183, 0.029320640489459038, 0.01929856836795807, 0.011587847024202347, -0.04381609708070755, 0.012331800535321236, 0.003156311111524701, -0.04017006978392601, 0.01198094617575407, -0.03982837498188019, 0.017732203006744385, 0.0467446967959404, 0.04819963872432709, -0.02553865686058998, -0.05408899858593941, -0.010907650925219059, -0.018742527812719345, 0.04273763671517372, -0.007516225799918175, -0.012382143177092075, -0.01016260776668787, 0.02224966138601303, 0.001384949078783393, 0.024998782202601433, 0.03701384365558624, 0.0014699696330353618, 0.03279279172420502, -0.01694396696984768, 0.02392219565808773, 0.008962498046457767, 0.0016516020987182856, 0.061204828321933746, 0.012853596359491348, -0.03139002248644829, 0.0006304882117547095, -0.011488139629364014, -0.04031236469745636, -0.02042561210691929, 0.007762301713228226, 0.019584646448493004, -0.025949891656637192, 0.005206022411584854, -0.032447319477796555, 0.026236791163682938, -0.008452219888567924, -0.015519816428422928, -0.02052382379770279, -0.02124789170920849, -0.012374550104141235, 0.02544846385717392, -0.0036211437545716763, -0.04156564921140671, 0.004201226867735386, -0.012514491565525532, 0.05338074639439583, 0.013116220943629742, -0.006016846280544996, 0.006541434675455093, 0.005360593553632498, 0.03297882899641991, 0.006158089265227318, -0.023707283660769463, 0.0017803855007514358, 0.03214316442608833, 0.053470611572265625, 0.008734384551644325, -0.001860692398622632, -0.03184753656387329, 0.017365440726280212, 0.032829929143190384, -0.017128290608525276, -0.02241489477455616, -0.020302152261137962, 0.0023948794696480036, 0.03543533384799957, -0.013338441029191017, -0.005041909404098988, -0.014044022187590599, 0.023056581616401672, 0.007856259122490883, -0.021933333948254585, -0.059329308569431305, -0.012684544548392296, 0.045336540788412094, 0.022774003446102142, -0.021961065009236336, -0.027279360219836235, 0.0015542568871751428, -0.0015875359531491995, -0.03766121342778206, -0.010225693695247173, -0.02296854928135872, 0.057094357907772064, -0.01984540745615959, -0.0329250693321228, -0.017416544258594513, -0.03327277675271034, -0.1388927400112152, 0.012513309717178345, -0.03098544478416443, 0.029597407206892967, -0.007654792163521051, -0.03354800119996071, 0.022202331572771072, -0.010913852602243423, -0.0009347185841761529, 0.030001267790794373, 0.01054780650883913, -0.04586697369813919, -0.04942769557237625, -0.028722170740365982, 0.02922283485531807, 0.006233427207916975, 0.016220154240727425, -0.015227895230054855, -0.03240669146180153, -0.047736819833517075, -0.01576864719390869, -0.06954414397478104, 0.011305507272481918, -0.05059313774108887, 0.05737416446208954, -0.010979264043271542, 0.014536076225340366, -0.0029331648256629705, -0.04852902144193649, -0.05513792112469673, -0.016718631610274315, -0.04182406887412071, -0.007926814258098602, 0.054836906492710114, 0.05281027406454086, 0.005781364161521196, -3.8945439882809296e-05, -0.020734205842018127, 0.04596635699272156, -0.008148400112986565, 0.0011657323921099305, 0.005807022098451853, 0.030386347323656082, 0.04242420196533203, 0.005228082183748484, 0.017054079100489616, 0.03277789056301117, -0.019765205681324005, 0.019498398527503014, 0.00014509804896079004, -0.029272520914673805, -0.004788474179804325, 0.048072997480630875, -0.04107395187020302, 0.02163570746779442, -0.00947643257677555, 0.038424693048000336, 0.07570545375347137, 0.0428396537899971, -0.012058548629283905, -0.04917546734213829, 0.034872036427259445, -0.016396505758166313, 0.022692980244755745, -0.012598967179656029, -0.008418012410402298, 0.07614290714263916, 0.02471744455397129, -0.005684754811227322, -0.027882611379027367, 0.04361201077699661, -0.0062806261703372, 0.004255376290529966, -0.014813944697380066, 0.02073046565055847, 0.03330517187714577, 0.009627772495150566, -0.05122240632772446, -0.0448446087539196, -0.07378213852643967, 0.02980015240609646, -0.01326074544340372, 0.001719870837405324, 0.004934452474117279, -0.020253663882613182, -0.021318795159459114, -0.0015377223026007414, 0.004546693991869688, 0.017623737454414368, 0.2420317381620407, -0.019876107573509216, 0.015243387781083584, -0.024631960317492485, -0.014880798757076263, -0.007250345312058926, -0.02262740768492222, -0.02060636505484581, 0.008363228291273117, -0.02166385017335415, 0.004151373170316219, -0.018487511202692986, 0.011836660094559193, 0.0006079430459067225, 0.025201333686709404, 0.06394213438034058, -0.03870964050292969, 0.0058933827094733715, 0.06930830329656601, 0.013845128007233143, 0.0020532598719000816, 0.008863313123583794, 0.03150949627161026, 0.0173383466899395, -0.020081402733922005, -0.006837144959717989, 0.013201761990785599, 0.0320279560983181, -0.008144906722009182, -0.02524818293750286, -0.0009514570119790733, 0.0010775987757369876, 0.01966184191405773, -0.003249633125960827, 0.0065988339483737946, 0.0061967396177351475, -0.016481107100844383, -0.024912869557738304, 0.018653960898518562, -0.005283432547003031, -0.03027132898569107, -0.02072734758257866, 0.03370416536927223, -0.00538515392690897, 0.006310714408755302, 0.016996685415506363, 0.014942032285034657, 0.01786165125668049, -0.0636252760887146, -0.016864027827978134, -0.031084803864359856, -0.0026930812746286392, -0.05004075542092323, 0.004710206761956215, -0.009809690527617931, -0.02005874179303646, -0.016493147239089012, 0.04090903699398041, 0.016327252611517906, -0.016756368800997734, 0.06722535192966461, -0.0015064608305692673, 0.02508684992790222, -0.027626197785139084, 0.008179467171430588, -0.015017785131931305, -0.03549254685640335, -0.08512143790721893, -0.01330934651196003, 0.006398290861397982, -0.0025766240432858467, -0.0003957850276492536, -0.03742437809705734, -0.0062060789205133915, 0.02437172830104828, 0.029397543519735336, 0.030240418389439583, 0.04178120195865631, 0.008636531420052052, 0.008827758021652699, 0.01988913118839264, 0.0014926024014130235, -0.043304525315761566, 0.016931628808379173, 0.011048833839595318, -0.03648921847343445, -0.030208321288228035, 0.04558132216334343, 0.02940143086016178, -0.0476045198738575, 0.049670856446027756, -0.015217703767120838, -0.04329034686088562, 0.03242164105176926, 0.00634727394208312, -0.012637399137020111, 0.06317577511072159, 0.007010304369032383, 0.008459809236228466, 0.04452342540025711, -0.03669961169362068, -0.024248113855719566, 0.0018742952961474657, 0.05447053909301758, 0.047140348702669144, -0.0120210787281394, 0.012629111297428608, 0.066343754529953, 0.007605296093970537, 0.09709352254867554, -0.0131651246920228, -0.008366603404283524, -0.04063556715846062, 0.0015382602578029037, 0.026859233155846596, 0.0068918922916054726, 0.02669551596045494, -0.018854498863220215, 0.0026835838798433542, 0.01294878963381052, -0.04896561801433563, 0.02600545808672905, -0.00044924940448254347, -0.021763218566775322, 0.023600000888109207, -0.02912544086575508, 0.033599577844142914, -0.01094800140708685, -0.011746964417397976, 0.01738831028342247, 0.038573674857616425, 0.009290151298046112, 0.03204511106014252, 0.06549984961748123, 0.04233153164386749, 0.009285703301429749, -0.005954808555543423, 0.031535595655441284, 0.022374186664819717, 0.02146044187247753, -0.009577571414411068, 0.0005795207689516246, -0.00041679030982777476, 0.01936248317360878, 0.004549686796963215, 0.0030899490229785442, 0.02383546158671379, 0.026003023609519005, -0.03958515077829361, -0.03675717115402222, -0.0362263023853302, -0.015531310811638832, -0.009829318150877953, -0.07998623698949814, -0.0015930868685245514, -0.025562113150954247, -0.0034959623590111732, -0.038812220096588135, -0.005892863497138023, -0.033383019268512726, 0.027395129203796387, -0.02300550974905491, 0.04935440793633461, 0.10233268141746521, 0.016995875164866447, 0.07062326371669769, 0.04993109032511711, 0.009579898789525032, 0.008940145373344421, -0.0697501003742218, 0.04280110076069832, -0.030092718079686165, -0.043744247406721115, 0.00821530818939209, -0.027201471850275993, -0.027408193796873093, -0.024789463728666306, -0.0011592888040468097, 0.007252444978803396, -0.05155998468399048, 0.017707984894514084, 0.018029773607850075, 0.02602287195622921, 0.05060124769806862, -0.000940916477702558, 0.006076435092836618, 0.05318819358944893, -0.008109861053526402, 0.011395358480513096, -0.014413871802389622, -0.00032663869205862284, 0.07419637590646744, 0.007855931296944618, -0.0076103913597762585, 0.020206402987241745, -0.04223257303237915, 0.008771639317274094, -0.02167273685336113, 0.04890775680541992, 0.029064685106277466, 0.0360306017100811, -0.04985412582755089, 0.0032188715413212776, -0.005004844628274441, 0.017928261309862137, 0.008930893614888191, -0.02299092710018158, 0.0009475235128775239, -0.016712184995412827, 0.04484297335147858, 0.02825232222676277, -0.006957346573472023, -0.03332092985510826, -0.007276589050889015, -0.038243599236011505, 0.020017491653561592, -0.043239131569862366, 0.03422994911670685, 0.027511155232787132, -0.0607658289372921, -0.02960577793419361, 0.025166306644678116, 0.012575902976095676, -0.07355397939682007, -0.004146483261138201, 0.05067174509167671, -0.030390748754143715, -0.019832968711853027, 0.027826227247714996, 0.03879388049244881, 0.008611821569502354, -0.06467689573764801, 0.020271264016628265, 0.03683328628540039, 0.014604439027607441, -0.01352063287049532, -0.018870409578084946, -0.018298054113984108, -0.013501834124326706, -0.028095737099647522, 0.035475827753543854, -0.012760479934513569, 0.06276272982358932, 0.020173367112874985, 0.0195931289345026, -0.01917651854455471, 0.008202766068279743, -0.008247315883636475, -0.012221310287714005, 0.02863319218158722, -0.030222231522202492, -0.009469862096011639, 0.03963344916701317, 0.005458368919789791, 0.010560169816017151, -0.012916055507957935, 0.03910648450255394, -0.00018449073832016438, -0.011776336468756199, 0.0013934593880549073, 0.005413457285612822, 0.02934257686138153, -0.030277783051133156, 0.0013775053666904569, -0.005238284356892109, 0.02467885985970497, 0.010373678989708424, 0.004041755106300116, -0.05239953473210335, -0.052181653678417206, 0.03139227628707886, 0.020492402836680412, -0.02458566054701805, -0.048382870852947235, -0.02593199349939823, 0.022671528160572052, -0.044950220733881, 0.017141100019216537, 0.00824833381921053, 0.0499420240521431, -0.016989383846521378, 0.06760457903146744, -0.012280036695301533, 0.036864567548036575, -0.02793458290398121, -0.0033238085452467203, 0.015957452356815338, -0.02816006913781166, 0.0014289600076153874, -0.07038767635822296, -0.004081045743077993, -0.01721758395433426, -0.0518161803483963, 0.013911967165768147, -0.00671479431912303, 0.057976365089416504, -0.021305754780769348, 0.04055904224514961, -0.024748025462031364, -0.019389988854527473, -0.03468701243400574, 0.0005609725485555828, -0.013012113980948925, 0.018297670409083366, -0.002354252152144909, 0.02455284260213375, 0.012796849943697453, -0.0326676107943058, 0.02638559229671955, -0.002158036921173334, -0.018198499456048012, 0.007875140756368637, 0.02863573655486107, 0.0326412133872509, -0.04642822593450546, -0.013490631245076656, 0.046646613627672195, -0.06502240896224976, 0.02779526449739933, 0.022411085665225983, 0.05588416010141373, 0.021421976387500763, -5.231426257523708e-05, -0.04609033837914467, 0.03443680331110954, 0.0007381661562249064, -0.01998656429350376, -0.03379891812801361, 0.02756848931312561, -0.06983774155378342, -0.017546100541949272, 0.04747079685330391, -0.005896205548197031, -0.0015167510136961937, -0.011527969501912594, 0.0014851543819531798, -0.031306199729442596, -0.028919201344251633, 0.03646643087267876, -0.016351528465747833, 0.04236645624041557, 0.007334787864238024, 0.05029613524675369, -0.01565706357359886, -0.015722833573818207, -0.05610250309109688, 0.007963261567056179, 0.019054332748055458, -0.002126546110957861, 0.03494052588939667, 0.006043662317097187, 0.03789274021983147, -0.04639299213886261, -0.058546315878629684, 0.041491009294986725, 0.019424807280302048, -0.03118194080889225, -0.02496802993118763, 0.021529151126742363, 0.009500736370682716, -0.04023853689432144, 0.030347608029842377, 0.008617858402431011, 0.03387032821774483, 0.015602356754243374, 0.0167714711278677, 0.004630491137504578, -0.024570941925048828, 0.012144453823566437, -0.01587349735200405, -0.011284241452813148, 0.013085724785923958, 0.05269148200750351, -0.038005903363227844, -0.02125444822013378, 0.014463232830166817, -0.019014352932572365, -0.01867644488811493, -0.01119824405759573, -0.027071543037891388, -0.0028617214411497116, -0.06285754591226578, -0.04126311093568802, -0.03820525482296944, -0.011152324266731739, -0.026896504685282707, 0.0002756895264610648, -0.04523347318172455, 0.038717616349458694, -0.055651839822530746, -0.03512459993362427, -0.03681231662631035, -0.012101097963750362, -0.00773907545953989, -0.12244144827127457, 0.028430262580513954, 0.0007802656618878245, -0.003497915808111429, -0.04482581838965416, 0.012036205269396305, -0.025503573939204216, -0.002206232398748398, 0.01433057151734829, -0.02369225211441517, -0.024583622813224792, 0.052238885313272476, -0.04679550230503082, -0.017151370644569397, -0.0053192488849163055, 0.03139859065413475, -0.017291633412241936, 0.020524492487311363, -0.013091661967337132, -0.02361619472503662, -0.042163293808698654, -0.008896025829017162, 0.026551101356744766, -0.028853898867964745, 0.05182388052344322, 0.020637787878513336, 0.026331663131713867, 0.03774473816156387, -0.037380632013082504, -0.015459181740880013, 0.017555639147758484, -0.06573130935430527, 0.03922170028090477, -0.0037507377564907074, -0.04976591840386391, -0.024916192516684532, -0.027555936947464943, -0.019644243642687798, -0.007330190856009722, -3.820909114438109e-05, -0.0038446641992777586, 0.017675653100013733, 0.0017128154868260026, -0.02606883831322193, -0.03193387761712074, 0.04880281910300255, -0.028117822483181953, -0.025011399760842323, -0.024036042392253876, -0.0021040637511759996, 0.02969939447939396, -0.015713032335042953, 0.0014264073688536882, 0.014339602552354336, -0.011866527609527111, 0.02190319448709488, -0.054665178060531616, 0.023953277617692947, -0.0032518787775188684, 0.10011004656553268, -0.002247302094474435, -0.0034314808435738087, -0.02504344843327999, 0.027832066640257835, -0.02313646674156189, 0.018705150112509727, -0.034699488431215286, 0.009097936563193798, 0.01969231106340885, 0.00836874358355999, -0.013297485187649727, 0.007252746727317572, 0.008134055882692337, -0.016761649399995804, 0.036982834339141846, 0.016069673001766205, 0.03712620213627815, 0.013135608285665512, -0.018038518726825714, -0.029087016358971596, 0.03488962724804878, 0.007652323693037033, -0.04319484531879425, -0.01529024075716734, -0.018153468146920204, 0.010112138465046883, -0.03023124858736992, 0.018234020099043846, 0.010293676517903805, -0.010590340942144394, -0.07305829226970673, -0.011293383315205574, 0.004306699614971876, 0.00746915303170681, -0.055517759174108505, 0.006264489144086838, -0.0199801716953516, 0.003489416092634201, -0.03260233253240585, -0.012759776785969734, -0.017891433089971542, -0.004075177479535341, 0.02083158679306507, 0.02219754457473755, -0.014380971901118755, 0.011955397203564644, 0.0683399960398674, -0.01693245954811573, 0.009014761075377464, -0.0036525411996990442, 0.015495788305997849, -0.006678505335003138, 0.000726762693375349, 0.034672174602746964, 0.001711869495920837, -0.009494813159108162, 0.029360048472881317, 0.0336320586502552, -0.00013404669880401343, 0.02490244060754776, -0.011641688644886017, -0.013489648699760437, -0.022061584517359734, -0.011793986894190311, 0.04312030225992203, 0.052311938256025314, 0.0035379603505134583, 0.014906182885169983, 0.09722614288330078, -0.0001819618628360331, 0.02407776191830635, -0.06734215468168259, 0.017768753692507744, -0.010811498388648033, 0.028436288237571716, -0.034049924463033676, 0.03282202035188675, 0.04605548456311226, -0.04085589200258255, -0.06811119616031647, -0.010110108181834221, 0.02320167049765587, -0.022664738819003105, 0.0010474433656781912, -0.04987378418445587, -0.030113333836197853, 0.018098134547472, -0.010946840047836304, -0.0508270189166069, -0.05360875278711319, -0.004286246374249458, -0.016741769388318062, 0.0012623426737263799, 0.025351978838443756, -0.0007760641165077686, 0.036145344376564026, -0.02464284375309944, 0.0075409566052258015, -0.027212131768465042, 0.029098598286509514, 0.012116423808038235, -0.01696077175438404, -0.02817334234714508, -0.00436127046123147, -0.03635977581143379, -0.024163980036973953, -0.009594776667654514, -0.013237180188298225, -0.01688041351735592, 0.021243920549750328, 0.00538978585973382, 0.06553635746240616, -0.03476690873503685, 0.041744355112314224, 0.037321679294109344, -0.012123707681894302, -0.003276052186265588, 0.06378375738859177, 0.009976168163120747, -0.0210975781083107, 0.02616228349506855, -0.027559762820601463, 0.01359421107918024, 0.0195690356194973, -0.030949296429753304, -0.037132326513528824, -0.014435628429055214, 0.0674867257475853, 0.03028511069715023, -0.0034648508299142122, -0.008324731141328812, 0.005975448992103338, 0.010280861519277096, -0.007067687343806028, 0.031684886664152145, 0.04029349982738495, 0.03532957285642624, 0.033572837710380554, -0.02851182036101818, 0.02515200711786747, -0.05958345904946327, -0.016612188890576363, 0.050416719168424606, -0.01620868593454361, -0.013578202575445175, -0.0030963316094130278, -0.044684670865535736, -0.008753517642617226, -0.01620873622596264, 0.004248388577252626, -0.017500778660178185, -0.023709751665592194, 0.014584241434931755, 0.005686085671186447, 0.013753299601376057, -0.029015155509114265, 0.03153630718588829, 0.0007684225565753877, -0.021202154457569122, -0.012150977738201618, -0.005349196493625641, -0.011657181195914745, -0.012787227518856525, -0.025138508528470993, 0.013164078816771507, -0.05481509491801262, 0.005921312607824802, 0.04921037331223488, -0.029099836945533752, 0.004524134565144777, 0.02522636391222477, -0.051795847713947296, -0.04435078054666519, 0.0442572757601738, 0.018802780658006668, -0.018165137618780136, 0.046922631561756134, 0.017622314393520355, -0.008060290478169918, -0.0376141294836998, 0.05618904531002045, -0.020054122433066368, 0.0031342506408691406, -0.024259569123387337]\n"
     ]
    }
   ],
   "source": [
    "embedded_query = embeddings_model.embed_query('인공지능이란 무엇인가?')\n",
    "\n",
    "print(f'임베딩 벡터의 차원: {len(embedded_query)}')\n",
    "print(embedded_query)"
   ]
  },
  {
   "cell_type": "code",
   "execution_count": 43,
   "id": "dbd2ef81",
   "metadata": {},
   "outputs": [
    {
     "name": "stdout",
     "output_type": "stream",
     "text": [
      "질문: 인공지능이란 무엇인가요?\n",
      "가장 유사한 문서: 인공지능은 컴퓨터 과학의 한 분야입니다.\n",
      "유사도: 0.7269\n",
      "--------------------------------------------------\n",
      "질문: 딥러닝과 머신러닝의 관계는 어떻게 되나요?\n",
      "가장 유사한 문서: 딥러닝은 머신러닝의 한 종류입니다.\n",
      "유사도: 0.7057\n",
      "--------------------------------------------------\n",
      "질문: 컴퓨타가 이미지를 이해하는 방법은?\n",
      "가장 유사한 문서: 컴퓨터 비전은 컴퓨터가 디지털 이미지나 비디오를 이해하는 방법을 연구합니다.\n",
      "유사도: 0.6683\n",
      "--------------------------------------------------\n"
     ]
    }
   ],
   "source": [
    "from langchain_community.utils.math import cosine_similarity\n",
    "import numpy as np\n",
    "\n",
    "def find_most_similar(query, document_embeddings):\n",
    "    query_embedding = embeddings_model.embed_query(query)\n",
    "    similarities = cosine_similarity([query_embedding], document_embeddings)[0]\n",
    "    most_similar_idx = np.argmax(similarities)\n",
    "    return documents[most_similar_idx], similarities[most_similar_idx]\n",
    "\n",
    "queries = [\n",
    "    \"인공지능이란 무엇인가요?\",\n",
    "    \"딥러닝과 머신러닝의 관계는 어떻게 되나요?\",\n",
    "    \"컴퓨타가 이미지를 이해하는 방법은?\"\n",
    "]\n",
    "\n",
    "for query in queries:\n",
    "    most_similar_doc, similarity = find_most_similar(query, document_embeddings)\n",
    "    print(f'질문: {query}')\n",
    "    print(f'가장 유사한 문서: {most_similar_doc}')\n",
    "    print(f'유사도: {similarity:.4f}')\n",
    "    print('-' * 50)"
   ]
  },
  {
   "cell_type": "code",
   "execution_count": null,
   "id": "d2a5e0cd",
   "metadata": {},
   "outputs": [],
   "source": []
  }
 ],
 "metadata": {
  "kernelspec": {
   "display_name": "langchain-env-t9ymxAh_-py3.11",
   "language": "python",
   "name": "python3"
  },
  "language_info": {
   "codemirror_mode": {
    "name": "ipython",
    "version": 3
   },
   "file_extension": ".py",
   "mimetype": "text/x-python",
   "name": "python",
   "nbconvert_exporter": "python",
   "pygments_lexer": "ipython3",
   "version": "3.11.9"
  }
 },
 "nbformat": 4,
 "nbformat_minor": 5
}
